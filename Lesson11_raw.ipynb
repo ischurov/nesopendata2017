{
 "cells": [
  {
   "cell_type": "code",
   "execution_count": 1,
   "metadata": {
    "collapsed": true,
    "deletable": true,
    "editable": true
   },
   "outputs": [],
   "source": [
    "import numpy as np"
   ]
  },
  {
   "cell_type": "code",
   "execution_count": 2,
   "metadata": {
    "collapsed": true,
    "deletable": true,
    "editable": true
   },
   "outputs": [],
   "source": [
    "x = np.array([12, 34, 2, 15])\n",
    "y = np.array([22, 11, 54.5, 12])"
   ]
  },
  {
   "cell_type": "code",
   "execution_count": 3,
   "metadata": {
    "collapsed": false,
    "deletable": true,
    "editable": true
   },
   "outputs": [
    {
     "data": {
      "text/plain": [
       "array([ 34. ,  45. ,  56.5,  27. ])"
      ]
     },
     "execution_count": 3,
     "metadata": {},
     "output_type": "execute_result"
    }
   ],
   "source": [
    "x + y"
   ]
  },
  {
   "cell_type": "code",
   "execution_count": 4,
   "metadata": {
    "collapsed": false,
    "deletable": true,
    "editable": true
   },
   "outputs": [
    {
     "data": {
      "text/plain": [
       "12"
      ]
     },
     "execution_count": 4,
     "metadata": {},
     "output_type": "execute_result"
    }
   ],
   "source": [
    "x[0]"
   ]
  },
  {
   "cell_type": "code",
   "execution_count": 6,
   "metadata": {
    "collapsed": false,
    "deletable": true,
    "editable": true
   },
   "outputs": [
    {
     "name": "stdout",
     "output_type": "stream",
     "text": [
      "12 34 2 15 "
     ]
    }
   ],
   "source": [
    "for element in x:\n",
    "    print(element, end=\" \")"
   ]
  },
  {
   "cell_type": "code",
   "execution_count": 7,
   "metadata": {
    "collapsed": false,
    "deletable": true,
    "editable": true
   },
   "outputs": [
    {
     "data": {
      "text/plain": [
       "array([12, 34,  2, 15])"
      ]
     },
     "execution_count": 7,
     "metadata": {},
     "output_type": "execute_result"
    }
   ],
   "source": [
    "x"
   ]
  },
  {
   "cell_type": "code",
   "execution_count": 8,
   "metadata": {
    "collapsed": true,
    "deletable": true,
    "editable": true
   },
   "outputs": [],
   "source": [
    "z = x[1:3]"
   ]
  },
  {
   "cell_type": "code",
   "execution_count": 9,
   "metadata": {
    "collapsed": false,
    "deletable": true,
    "editable": true
   },
   "outputs": [
    {
     "data": {
      "text/plain": [
       "array([34,  2])"
      ]
     },
     "execution_count": 9,
     "metadata": {},
     "output_type": "execute_result"
    }
   ],
   "source": [
    "z"
   ]
  },
  {
   "cell_type": "code",
   "execution_count": 14,
   "metadata": {
    "collapsed": true,
    "deletable": true,
    "editable": true
   },
   "outputs": [],
   "source": [
    "z[0] = 1024"
   ]
  },
  {
   "cell_type": "code",
   "execution_count": 15,
   "metadata": {
    "collapsed": false,
    "deletable": true,
    "editable": true
   },
   "outputs": [
    {
     "data": {
      "text/plain": [
       "array([1024,    2])"
      ]
     },
     "execution_count": 15,
     "metadata": {},
     "output_type": "execute_result"
    }
   ],
   "source": [
    "z"
   ]
  },
  {
   "cell_type": "code",
   "execution_count": 16,
   "metadata": {
    "collapsed": false,
    "deletable": true,
    "editable": true
   },
   "outputs": [
    {
     "data": {
      "text/plain": [
       "array([  12, 1024,    2,   15])"
      ]
     },
     "execution_count": 16,
     "metadata": {},
     "output_type": "execute_result"
    }
   ],
   "source": [
    "x"
   ]
  },
  {
   "cell_type": "code",
   "execution_count": 17,
   "metadata": {
    "collapsed": true,
    "deletable": true,
    "editable": true
   },
   "outputs": [],
   "source": [
    "w = x.copy()"
   ]
  },
  {
   "cell_type": "code",
   "execution_count": 18,
   "metadata": {
    "collapsed": false,
    "deletable": true,
    "editable": true
   },
   "outputs": [
    {
     "data": {
      "text/plain": [
       "array([  12, 1024,    2,   15])"
      ]
     },
     "execution_count": 18,
     "metadata": {},
     "output_type": "execute_result"
    }
   ],
   "source": [
    "w"
   ]
  },
  {
   "cell_type": "code",
   "execution_count": 19,
   "metadata": {
    "collapsed": true,
    "deletable": true,
    "editable": true
   },
   "outputs": [],
   "source": [
    "z = w[1:3]"
   ]
  },
  {
   "cell_type": "code",
   "execution_count": 20,
   "metadata": {
    "collapsed": true,
    "deletable": true,
    "editable": true
   },
   "outputs": [],
   "source": [
    "z[0] = -10"
   ]
  },
  {
   "cell_type": "code",
   "execution_count": 21,
   "metadata": {
    "collapsed": false,
    "deletable": true,
    "editable": true
   },
   "outputs": [
    {
     "data": {
      "text/plain": [
       "array([-10,   2])"
      ]
     },
     "execution_count": 21,
     "metadata": {},
     "output_type": "execute_result"
    }
   ],
   "source": [
    "z"
   ]
  },
  {
   "cell_type": "code",
   "execution_count": 22,
   "metadata": {
    "collapsed": false,
    "deletable": true,
    "editable": true
   },
   "outputs": [
    {
     "data": {
      "text/plain": [
       "array([ 12, -10,   2,  15])"
      ]
     },
     "execution_count": 22,
     "metadata": {},
     "output_type": "execute_result"
    }
   ],
   "source": [
    "w"
   ]
  },
  {
   "cell_type": "code",
   "execution_count": 23,
   "metadata": {
    "collapsed": false,
    "deletable": true,
    "editable": true
   },
   "outputs": [
    {
     "data": {
      "text/plain": [
       "array([  12, 1024,    2,   15])"
      ]
     },
     "execution_count": 23,
     "metadata": {},
     "output_type": "execute_result"
    }
   ],
   "source": [
    "x"
   ]
  },
  {
   "cell_type": "code",
   "execution_count": 25,
   "metadata": {
    "collapsed": false,
    "deletable": true,
    "editable": true
   },
   "outputs": [
    {
     "data": {
      "text/plain": [
       "array([1024,    2,   12])"
      ]
     },
     "execution_count": 25,
     "metadata": {},
     "output_type": "execute_result"
    }
   ],
   "source": [
    "x[[1, 2, 0]]"
   ]
  },
  {
   "cell_type": "code",
   "execution_count": 26,
   "metadata": {
    "collapsed": false,
    "deletable": true,
    "editable": true
   },
   "outputs": [
    {
     "data": {
      "text/plain": [
       "array([  12, 1024,    2,   15])"
      ]
     },
     "execution_count": 26,
     "metadata": {},
     "output_type": "execute_result"
    }
   ],
   "source": [
    "x"
   ]
  },
  {
   "cell_type": "code",
   "execution_count": 27,
   "metadata": {
    "collapsed": true,
    "deletable": true,
    "editable": true
   },
   "outputs": [],
   "source": [
    "small_elements_of_x = x[x < 100]"
   ]
  },
  {
   "cell_type": "code",
   "execution_count": 28,
   "metadata": {
    "collapsed": false,
    "deletable": true,
    "editable": true
   },
   "outputs": [
    {
     "data": {
      "text/plain": [
       "array([12,  2, 15])"
      ]
     },
     "execution_count": 28,
     "metadata": {},
     "output_type": "execute_result"
    }
   ],
   "source": [
    "small_elements_of_x"
   ]
  },
  {
   "cell_type": "code",
   "execution_count": 29,
   "metadata": {
    "collapsed": false,
    "deletable": true,
    "editable": true
   },
   "outputs": [
    {
     "data": {
      "text/plain": [
       "array([ True, False,  True,  True], dtype=bool)"
      ]
     },
     "execution_count": 29,
     "metadata": {},
     "output_type": "execute_result"
    }
   ],
   "source": [
    "x < 100"
   ]
  },
  {
   "cell_type": "code",
   "execution_count": 30,
   "metadata": {
    "collapsed": false,
    "deletable": true,
    "editable": true
   },
   "outputs": [
    {
     "data": {
      "text/plain": [
       "array([12,  2, 15])"
      ]
     },
     "execution_count": 30,
     "metadata": {},
     "output_type": "execute_result"
    }
   ],
   "source": [
    "x[np.array([True, False, True, True])]"
   ]
  },
  {
   "cell_type": "code",
   "execution_count": 31,
   "metadata": {
    "collapsed": false,
    "deletable": true,
    "editable": true
   },
   "outputs": [
    {
     "data": {
      "text/plain": [
       "array([1024,   15])"
      ]
     },
     "execution_count": 31,
     "metadata": {},
     "output_type": "execute_result"
    }
   ],
   "source": [
    "x[np.array([False, True, False, True])]"
   ]
  },
  {
   "cell_type": "code",
   "execution_count": 33,
   "metadata": {
    "collapsed": false,
    "deletable": true,
    "editable": true
   },
   "outputs": [
    {
     "data": {
      "text/plain": [
       "array([  12, 1024,    2,   15])"
      ]
     },
     "execution_count": 33,
     "metadata": {},
     "output_type": "execute_result"
    }
   ],
   "source": [
    "x"
   ]
  },
  {
   "cell_type": "code",
   "execution_count": 34,
   "metadata": {
    "collapsed": false,
    "deletable": true,
    "editable": true
   },
   "outputs": [
    {
     "data": {
      "text/plain": [
       "array([ 22. ,  11. ,  54.5,  12. ])"
      ]
     },
     "execution_count": 34,
     "metadata": {},
     "output_type": "execute_result"
    }
   ],
   "source": [
    "y"
   ]
  },
  {
   "cell_type": "code",
   "execution_count": 36,
   "metadata": {
    "collapsed": false,
    "deletable": true,
    "editable": true
   },
   "outputs": [
    {
     "data": {
      "text/plain": [
       "array([   264.,  11264.,    109.,    180.])"
      ]
     },
     "execution_count": 36,
     "metadata": {},
     "output_type": "execute_result"
    }
   ],
   "source": [
    "x * y"
   ]
  },
  {
   "cell_type": "code",
   "execution_count": 35,
   "metadata": {
    "collapsed": false,
    "deletable": true,
    "editable": true
   },
   "outputs": [
    {
     "data": {
      "text/plain": [
       "11817.0"
      ]
     },
     "execution_count": 35,
     "metadata": {},
     "output_type": "execute_result"
    }
   ],
   "source": [
    "x @ y"
   ]
  },
  {
   "cell_type": "code",
   "execution_count": 38,
   "metadata": {
    "collapsed": true,
    "deletable": true,
    "editable": true
   },
   "outputs": [],
   "source": [
    "x = np.array([1, 2, 0, -15, 20, 35, 100, 1024])"
   ]
  },
  {
   "cell_type": "code",
   "execution_count": 48,
   "metadata": {
    "collapsed": false,
    "deletable": true,
    "editable": true
   },
   "outputs": [
    {
     "data": {
      "text/plain": [
       "array([  1,   2,  20,  35, 100])"
      ]
     },
     "execution_count": 48,
     "metadata": {},
     "output_type": "execute_result"
    }
   ],
   "source": [
    "x[(x > 0) & (x < 1000)]"
   ]
  },
  {
   "cell_type": "code",
   "execution_count": 49,
   "metadata": {
    "collapsed": false,
    "deletable": true,
    "editable": true
   },
   "outputs": [
    {
     "data": {
      "text/plain": [
       "array([ True,  True,  True,  True,  True,  True,  True, False], dtype=bool)"
      ]
     },
     "execution_count": 49,
     "metadata": {},
     "output_type": "execute_result"
    }
   ],
   "source": [
    "(x < 1000)"
   ]
  },
  {
   "cell_type": "code",
   "execution_count": 50,
   "metadata": {
    "collapsed": false,
    "deletable": true,
    "editable": true
   },
   "outputs": [
    {
     "data": {
      "text/plain": [
       "array([ True,  True, False, False,  True,  True,  True, False], dtype=bool)"
      ]
     },
     "execution_count": 50,
     "metadata": {},
     "output_type": "execute_result"
    }
   ],
   "source": [
    "(x > 0) & (x < 1000)"
   ]
  },
  {
   "cell_type": "code",
   "execution_count": 52,
   "metadata": {
    "collapsed": false,
    "deletable": true,
    "editable": true
   },
   "outputs": [
    {
     "data": {
      "text/plain": [
       "True"
      ]
     },
     "execution_count": 52,
     "metadata": {},
     "output_type": "execute_result"
    }
   ],
   "source": [
    "list_x = [1, 2, 3]\n",
    "list_y = [1, 2, 3]\n",
    "list_x == list_y"
   ]
  },
  {
   "cell_type": "code",
   "execution_count": 51,
   "metadata": {
    "collapsed": true,
    "deletable": true,
    "editable": true
   },
   "outputs": [],
   "source": [
    "x = np.array([1, 2, 3])\n",
    "y = np.array([1, 2, 3])"
   ]
  },
  {
   "cell_type": "code",
   "execution_count": 53,
   "metadata": {
    "collapsed": false,
    "deletable": true,
    "editable": true
   },
   "outputs": [
    {
     "data": {
      "text/plain": [
       "array([ True,  True,  True], dtype=bool)"
      ]
     },
     "execution_count": 53,
     "metadata": {},
     "output_type": "execute_result"
    }
   ],
   "source": [
    "x == y"
   ]
  },
  {
   "cell_type": "code",
   "execution_count": 54,
   "metadata": {
    "collapsed": false,
    "deletable": true,
    "editable": true
   },
   "outputs": [
    {
     "data": {
      "text/plain": [
       "True"
      ]
     },
     "execution_count": 54,
     "metadata": {},
     "output_type": "execute_result"
    }
   ],
   "source": [
    "(x == y).all()"
   ]
  },
  {
   "cell_type": "code",
   "execution_count": 56,
   "metadata": {
    "collapsed": false,
    "deletable": true,
    "editable": true
   },
   "outputs": [
    {
     "name": "stdout",
     "output_type": "stream",
     "text": [
      "arrays are equal\n"
     ]
    }
   ],
   "source": [
    "if (x == y).all():\n",
    "    print(\"arrays are equal\")"
   ]
  },
  {
   "cell_type": "code",
   "execution_count": 57,
   "metadata": {
    "collapsed": true,
    "deletable": true,
    "editable": true
   },
   "outputs": [],
   "source": [
    "x = np.array([1, 2, 3])\n",
    "y = np.array([10, 2, 15])"
   ]
  },
  {
   "cell_type": "code",
   "execution_count": 58,
   "metadata": {
    "collapsed": false,
    "deletable": true,
    "editable": true
   },
   "outputs": [
    {
     "data": {
      "text/plain": [
       "False"
      ]
     },
     "execution_count": 58,
     "metadata": {},
     "output_type": "execute_result"
    }
   ],
   "source": [
    "(x == y).all()"
   ]
  },
  {
   "cell_type": "code",
   "execution_count": 59,
   "metadata": {
    "collapsed": false,
    "deletable": true,
    "editable": true
   },
   "outputs": [
    {
     "data": {
      "text/plain": [
       "True"
      ]
     },
     "execution_count": 59,
     "metadata": {},
     "output_type": "execute_result"
    }
   ],
   "source": [
    "(x == y).any()"
   ]
  },
  {
   "cell_type": "code",
   "execution_count": 60,
   "metadata": {
    "collapsed": false,
    "deletable": true,
    "editable": true
   },
   "outputs": [
    {
     "data": {
      "text/plain": [
       "True"
      ]
     },
     "execution_count": 60,
     "metadata": {},
     "output_type": "execute_result"
    }
   ],
   "source": [
    "(np.array([1]) == np.array([])).all()"
   ]
  },
  {
   "cell_type": "code",
   "execution_count": 61,
   "metadata": {
    "collapsed": false,
    "deletable": true,
    "editable": true
   },
   "outputs": [
    {
     "data": {
      "text/plain": [
       "array([], dtype=bool)"
      ]
     },
     "execution_count": 61,
     "metadata": {},
     "output_type": "execute_result"
    }
   ],
   "source": [
    "np.array([1]) == np.array([])"
   ]
  },
  {
   "cell_type": "code",
   "execution_count": 63,
   "metadata": {
    "collapsed": false,
    "deletable": true,
    "editable": true
   },
   "outputs": [
    {
     "data": {
      "text/plain": [
       "False"
      ]
     },
     "execution_count": 63,
     "metadata": {},
     "output_type": "execute_result"
    }
   ],
   "source": [
    "np.array_equal(np.array([1]), np.array([]))"
   ]
  },
  {
   "cell_type": "code",
   "execution_count": 64,
   "metadata": {
    "collapsed": true,
    "deletable": true,
    "editable": true
   },
   "outputs": [],
   "source": [
    "import pandas as pd"
   ]
  },
  {
   "cell_type": "code",
   "execution_count": null,
   "metadata": {
    "collapsed": true,
    "deletable": true,
    "editable": true
   },
   "outputs": [],
   "source": [
    "[[3, 4, 5], [4, 3, 5]]"
   ]
  },
  {
   "cell_type": "code",
   "execution_count": 65,
   "metadata": {
    "collapsed": true,
    "deletable": true,
    "editable": true
   },
   "outputs": [],
   "source": [
    "df = pd.DataFrame([[3, 4, 5], [4, 3, 5]], \n",
    "                 columns=['hw1', 'hw2', 'hw3'],\n",
    "                 index=['Alice', 'Bob'])"
   ]
  },
  {
   "cell_type": "code",
   "execution_count": 68,
   "metadata": {
    "collapsed": false,
    "deletable": true,
    "editable": true
   },
   "outputs": [],
   "source": [
    "column1 = df['hw1']"
   ]
  },
  {
   "cell_type": "code",
   "execution_count": 69,
   "metadata": {
    "collapsed": false,
    "deletable": true,
    "editable": true
   },
   "outputs": [
    {
     "data": {
      "text/plain": [
       "3"
      ]
     },
     "execution_count": 69,
     "metadata": {},
     "output_type": "execute_result"
    }
   ],
   "source": [
    "column1['Alice']"
   ]
  },
  {
   "cell_type": "code",
   "execution_count": 70,
   "metadata": {
    "collapsed": false,
    "deletable": true,
    "editable": true
   },
   "outputs": [
    {
     "data": {
      "text/html": [
       "<div>\n",
       "<table border=\"1\" class=\"dataframe\">\n",
       "  <thead>\n",
       "    <tr style=\"text-align: right;\">\n",
       "      <th></th>\n",
       "      <th>hw1</th>\n",
       "      <th>hw2</th>\n",
       "      <th>hw3</th>\n",
       "    </tr>\n",
       "  </thead>\n",
       "  <tbody>\n",
       "    <tr>\n",
       "      <th>Alice</th>\n",
       "      <td>3</td>\n",
       "      <td>4</td>\n",
       "      <td>5</td>\n",
       "    </tr>\n",
       "    <tr>\n",
       "      <th>Bob</th>\n",
       "      <td>4</td>\n",
       "      <td>3</td>\n",
       "      <td>5</td>\n",
       "    </tr>\n",
       "  </tbody>\n",
       "</table>\n",
       "</div>"
      ],
      "text/plain": [
       "       hw1  hw2  hw3\n",
       "Alice    3    4    5\n",
       "Bob      4    3    5"
      ]
     },
     "execution_count": 70,
     "metadata": {},
     "output_type": "execute_result"
    }
   ],
   "source": [
    "df"
   ]
  },
  {
   "cell_type": "code",
   "execution_count": 71,
   "metadata": {
    "collapsed": false,
    "deletable": true,
    "editable": true
   },
   "outputs": [
    {
     "data": {
      "text/plain": [
       "hw1    3\n",
       "hw2    4\n",
       "hw3    5\n",
       "Name: Alice, dtype: int64"
      ]
     },
     "execution_count": 71,
     "metadata": {},
     "output_type": "execute_result"
    }
   ],
   "source": [
    "df.loc['Alice']"
   ]
  },
  {
   "cell_type": "code",
   "execution_count": 72,
   "metadata": {
    "collapsed": false,
    "deletable": true,
    "editable": true
   },
   "outputs": [
    {
     "data": {
      "text/plain": [
       "4"
      ]
     },
     "execution_count": 72,
     "metadata": {},
     "output_type": "execute_result"
    }
   ],
   "source": [
    "df.loc['Alice', 'hw2']"
   ]
  },
  {
   "cell_type": "code",
   "execution_count": 75,
   "metadata": {
    "collapsed": true,
    "deletable": true,
    "editable": true
   },
   "outputs": [],
   "source": [
    "df.loc['Alice', 'hw2'] = 5"
   ]
  },
  {
   "cell_type": "code",
   "execution_count": 76,
   "metadata": {
    "collapsed": false,
    "deletable": true,
    "editable": true
   },
   "outputs": [
    {
     "data": {
      "text/html": [
       "<div>\n",
       "<table border=\"1\" class=\"dataframe\">\n",
       "  <thead>\n",
       "    <tr style=\"text-align: right;\">\n",
       "      <th></th>\n",
       "      <th>hw1</th>\n",
       "      <th>hw2</th>\n",
       "      <th>hw3</th>\n",
       "    </tr>\n",
       "  </thead>\n",
       "  <tbody>\n",
       "    <tr>\n",
       "      <th>Alice</th>\n",
       "      <td>3</td>\n",
       "      <td>5</td>\n",
       "      <td>5</td>\n",
       "    </tr>\n",
       "    <tr>\n",
       "      <th>Bob</th>\n",
       "      <td>4</td>\n",
       "      <td>3</td>\n",
       "      <td>5</td>\n",
       "    </tr>\n",
       "  </tbody>\n",
       "</table>\n",
       "</div>"
      ],
      "text/plain": [
       "       hw1  hw2  hw3\n",
       "Alice    3    5    5\n",
       "Bob      4    3    5"
      ]
     },
     "execution_count": 76,
     "metadata": {},
     "output_type": "execute_result"
    }
   ],
   "source": [
    "df"
   ]
  },
  {
   "cell_type": "code",
   "execution_count": 77,
   "metadata": {
    "collapsed": false,
    "deletable": true,
    "editable": true
   },
   "outputs": [
    {
     "data": {
      "text/plain": [
       "hw1    3.5\n",
       "hw2    4.0\n",
       "hw3    5.0\n",
       "dtype: float64"
      ]
     },
     "execution_count": 77,
     "metadata": {},
     "output_type": "execute_result"
    }
   ],
   "source": [
    "df.mean()"
   ]
  },
  {
   "cell_type": "code",
   "execution_count": 82,
   "metadata": {
    "collapsed": false,
    "deletable": true,
    "editable": true
   },
   "outputs": [
    {
     "data": {
      "text/plain": [
       "Alice    4.333333\n",
       "Bob      4.000000\n",
       "dtype: float64"
      ]
     },
     "execution_count": 82,
     "metadata": {},
     "output_type": "execute_result"
    }
   ],
   "source": [
    "df.mean(axis=1)"
   ]
  },
  {
   "cell_type": "code",
   "execution_count": 83,
   "metadata": {
    "collapsed": true,
    "deletable": true,
    "editable": true
   },
   "outputs": [],
   "source": [
    "df['Average'] = df.mean(axis=1)"
   ]
  },
  {
   "cell_type": "code",
   "execution_count": 84,
   "metadata": {
    "collapsed": false,
    "deletable": true,
    "editable": true
   },
   "outputs": [
    {
     "data": {
      "text/html": [
       "<div>\n",
       "<table border=\"1\" class=\"dataframe\">\n",
       "  <thead>\n",
       "    <tr style=\"text-align: right;\">\n",
       "      <th></th>\n",
       "      <th>hw1</th>\n",
       "      <th>hw2</th>\n",
       "      <th>hw3</th>\n",
       "      <th>Average</th>\n",
       "    </tr>\n",
       "  </thead>\n",
       "  <tbody>\n",
       "    <tr>\n",
       "      <th>Alice</th>\n",
       "      <td>3</td>\n",
       "      <td>5</td>\n",
       "      <td>5</td>\n",
       "      <td>4.333333</td>\n",
       "    </tr>\n",
       "    <tr>\n",
       "      <th>Bob</th>\n",
       "      <td>4</td>\n",
       "      <td>3</td>\n",
       "      <td>5</td>\n",
       "      <td>4.000000</td>\n",
       "    </tr>\n",
       "  </tbody>\n",
       "</table>\n",
       "</div>"
      ],
      "text/plain": [
       "       hw1  hw2  hw3   Average\n",
       "Alice    3    5    5  4.333333\n",
       "Bob      4    3    5  4.000000"
      ]
     },
     "execution_count": 84,
     "metadata": {},
     "output_type": "execute_result"
    }
   ],
   "source": [
    "df"
   ]
  },
  {
   "cell_type": "code",
   "execution_count": 85,
   "metadata": {
    "collapsed": true,
    "deletable": true,
    "editable": true
   },
   "outputs": [],
   "source": [
    "df.loc['Average'] = df.mean()"
   ]
  },
  {
   "cell_type": "code",
   "execution_count": 86,
   "metadata": {
    "collapsed": false,
    "deletable": true,
    "editable": true
   },
   "outputs": [
    {
     "data": {
      "text/html": [
       "<div>\n",
       "<table border=\"1\" class=\"dataframe\">\n",
       "  <thead>\n",
       "    <tr style=\"text-align: right;\">\n",
       "      <th></th>\n",
       "      <th>hw1</th>\n",
       "      <th>hw2</th>\n",
       "      <th>hw3</th>\n",
       "      <th>Average</th>\n",
       "    </tr>\n",
       "  </thead>\n",
       "  <tbody>\n",
       "    <tr>\n",
       "      <th>Alice</th>\n",
       "      <td>3.0</td>\n",
       "      <td>5.0</td>\n",
       "      <td>5.0</td>\n",
       "      <td>4.333333</td>\n",
       "    </tr>\n",
       "    <tr>\n",
       "      <th>Bob</th>\n",
       "      <td>4.0</td>\n",
       "      <td>3.0</td>\n",
       "      <td>5.0</td>\n",
       "      <td>4.000000</td>\n",
       "    </tr>\n",
       "    <tr>\n",
       "      <th>Average</th>\n",
       "      <td>3.5</td>\n",
       "      <td>4.0</td>\n",
       "      <td>5.0</td>\n",
       "      <td>4.166667</td>\n",
       "    </tr>\n",
       "  </tbody>\n",
       "</table>\n",
       "</div>"
      ],
      "text/plain": [
       "         hw1  hw2  hw3   Average\n",
       "Alice    3.0  5.0  5.0  4.333333\n",
       "Bob      4.0  3.0  5.0  4.000000\n",
       "Average  3.5  4.0  5.0  4.166667"
      ]
     },
     "execution_count": 86,
     "metadata": {},
     "output_type": "execute_result"
    }
   ],
   "source": [
    "df"
   ]
  },
  {
   "cell_type": "code",
   "execution_count": 90,
   "metadata": {
    "collapsed": false,
    "deletable": true,
    "editable": true
   },
   "outputs": [],
   "source": [
    "df.drop('Average', axis=1, inplace=True)"
   ]
  },
  {
   "cell_type": "code",
   "execution_count": 91,
   "metadata": {
    "collapsed": false,
    "deletable": true,
    "editable": true
   },
   "outputs": [
    {
     "data": {
      "text/html": [
       "<div>\n",
       "<table border=\"1\" class=\"dataframe\">\n",
       "  <thead>\n",
       "    <tr style=\"text-align: right;\">\n",
       "      <th></th>\n",
       "      <th>hw1</th>\n",
       "      <th>hw2</th>\n",
       "      <th>hw3</th>\n",
       "    </tr>\n",
       "  </thead>\n",
       "  <tbody>\n",
       "    <tr>\n",
       "      <th>Alice</th>\n",
       "      <td>3.0</td>\n",
       "      <td>5.0</td>\n",
       "      <td>5.0</td>\n",
       "    </tr>\n",
       "    <tr>\n",
       "      <th>Bob</th>\n",
       "      <td>4.0</td>\n",
       "      <td>3.0</td>\n",
       "      <td>5.0</td>\n",
       "    </tr>\n",
       "    <tr>\n",
       "      <th>Average</th>\n",
       "      <td>3.5</td>\n",
       "      <td>4.0</td>\n",
       "      <td>5.0</td>\n",
       "    </tr>\n",
       "  </tbody>\n",
       "</table>\n",
       "</div>"
      ],
      "text/plain": [
       "         hw1  hw2  hw3\n",
       "Alice    3.0  5.0  5.0\n",
       "Bob      4.0  3.0  5.0\n",
       "Average  3.5  4.0  5.0"
      ]
     },
     "execution_count": 91,
     "metadata": {},
     "output_type": "execute_result"
    }
   ],
   "source": [
    "df"
   ]
  },
  {
   "cell_type": "code",
   "execution_count": 98,
   "metadata": {
    "collapsed": false,
    "deletable": true,
    "editable": true
   },
   "outputs": [],
   "source": [
    "df = pd.DataFrame(np.random.randint(-10, 10, size=(10, 10)))"
   ]
  },
  {
   "cell_type": "code",
   "execution_count": 99,
   "metadata": {
    "collapsed": true,
    "deletable": true,
    "editable": true
   },
   "outputs": [
    {
     "data": {
      "text/html": [
       "<div>\n",
       "<table border=\"1\" class=\"dataframe\">\n",
       "  <thead>\n",
       "    <tr style=\"text-align: right;\">\n",
       "      <th></th>\n",
       "      <th>0</th>\n",
       "      <th>1</th>\n",
       "      <th>2</th>\n",
       "      <th>3</th>\n",
       "      <th>4</th>\n",
       "      <th>5</th>\n",
       "      <th>6</th>\n",
       "      <th>7</th>\n",
       "      <th>8</th>\n",
       "      <th>9</th>\n",
       "    </tr>\n",
       "  </thead>\n",
       "  <tbody>\n",
       "    <tr>\n",
       "      <th>0</th>\n",
       "      <td>-10</td>\n",
       "      <td>-5</td>\n",
       "      <td>-2</td>\n",
       "      <td>9</td>\n",
       "      <td>-4</td>\n",
       "      <td>-7</td>\n",
       "      <td>0</td>\n",
       "      <td>-10</td>\n",
       "      <td>-8</td>\n",
       "      <td>5</td>\n",
       "    </tr>\n",
       "    <tr>\n",
       "      <th>1</th>\n",
       "      <td>-5</td>\n",
       "      <td>-10</td>\n",
       "      <td>-9</td>\n",
       "      <td>0</td>\n",
       "      <td>-8</td>\n",
       "      <td>-8</td>\n",
       "      <td>-7</td>\n",
       "      <td>-4</td>\n",
       "      <td>1</td>\n",
       "      <td>-7</td>\n",
       "    </tr>\n",
       "    <tr>\n",
       "      <th>2</th>\n",
       "      <td>2</td>\n",
       "      <td>9</td>\n",
       "      <td>-7</td>\n",
       "      <td>-7</td>\n",
       "      <td>-1</td>\n",
       "      <td>-5</td>\n",
       "      <td>6</td>\n",
       "      <td>-3</td>\n",
       "      <td>-6</td>\n",
       "      <td>-1</td>\n",
       "    </tr>\n",
       "    <tr>\n",
       "      <th>3</th>\n",
       "      <td>-9</td>\n",
       "      <td>6</td>\n",
       "      <td>3</td>\n",
       "      <td>6</td>\n",
       "      <td>-10</td>\n",
       "      <td>-9</td>\n",
       "      <td>9</td>\n",
       "      <td>0</td>\n",
       "      <td>-9</td>\n",
       "      <td>-6</td>\n",
       "    </tr>\n",
       "    <tr>\n",
       "      <th>4</th>\n",
       "      <td>-3</td>\n",
       "      <td>4</td>\n",
       "      <td>4</td>\n",
       "      <td>2</td>\n",
       "      <td>9</td>\n",
       "      <td>-9</td>\n",
       "      <td>1</td>\n",
       "      <td>8</td>\n",
       "      <td>9</td>\n",
       "      <td>9</td>\n",
       "    </tr>\n",
       "    <tr>\n",
       "      <th>5</th>\n",
       "      <td>4</td>\n",
       "      <td>-9</td>\n",
       "      <td>7</td>\n",
       "      <td>6</td>\n",
       "      <td>4</td>\n",
       "      <td>-1</td>\n",
       "      <td>3</td>\n",
       "      <td>7</td>\n",
       "      <td>-3</td>\n",
       "      <td>-10</td>\n",
       "    </tr>\n",
       "    <tr>\n",
       "      <th>6</th>\n",
       "      <td>7</td>\n",
       "      <td>3</td>\n",
       "      <td>-4</td>\n",
       "      <td>3</td>\n",
       "      <td>-4</td>\n",
       "      <td>-5</td>\n",
       "      <td>2</td>\n",
       "      <td>5</td>\n",
       "      <td>-9</td>\n",
       "      <td>-8</td>\n",
       "    </tr>\n",
       "    <tr>\n",
       "      <th>7</th>\n",
       "      <td>1</td>\n",
       "      <td>-6</td>\n",
       "      <td>-2</td>\n",
       "      <td>4</td>\n",
       "      <td>9</td>\n",
       "      <td>5</td>\n",
       "      <td>7</td>\n",
       "      <td>0</td>\n",
       "      <td>-3</td>\n",
       "      <td>0</td>\n",
       "    </tr>\n",
       "    <tr>\n",
       "      <th>8</th>\n",
       "      <td>7</td>\n",
       "      <td>-7</td>\n",
       "      <td>9</td>\n",
       "      <td>-3</td>\n",
       "      <td>0</td>\n",
       "      <td>-8</td>\n",
       "      <td>7</td>\n",
       "      <td>-9</td>\n",
       "      <td>-6</td>\n",
       "      <td>3</td>\n",
       "    </tr>\n",
       "    <tr>\n",
       "      <th>9</th>\n",
       "      <td>0</td>\n",
       "      <td>-4</td>\n",
       "      <td>-9</td>\n",
       "      <td>-5</td>\n",
       "      <td>-2</td>\n",
       "      <td>-3</td>\n",
       "      <td>-6</td>\n",
       "      <td>-10</td>\n",
       "      <td>0</td>\n",
       "      <td>0</td>\n",
       "    </tr>\n",
       "  </tbody>\n",
       "</table>\n",
       "</div>"
      ],
      "text/plain": [
       "    0   1  2  3   4  5  6   7  8   9\n",
       "0 -10  -5 -2  9  -4 -7  0 -10 -8   5\n",
       "1  -5 -10 -9  0  -8 -8 -7  -4  1  -7\n",
       "2   2   9 -7 -7  -1 -5  6  -3 -6  -1\n",
       "3  -9   6  3  6 -10 -9  9   0 -9  -6\n",
       "4  -3   4  4  2   9 -9  1   8  9   9\n",
       "5   4  -9  7  6   4 -1  3   7 -3 -10\n",
       "6   7   3 -4  3  -4 -5  2   5 -9  -8\n",
       "7   1  -6 -2  4   9  5  7   0 -3   0\n",
       "8   7  -7  9 -3   0 -8  7  -9 -6   3\n",
       "9   0  -4 -9 -5  -2 -3 -6 -10  0   0"
      ]
     },
     "execution_count": 99,
     "metadata": {},
     "output_type": "execute_result"
    }
   ],
   "source": [
    "df"
   ]
  },
  {
   "cell_type": "code",
   "execution_count": 100,
   "metadata": {
    "collapsed": false,
    "deletable": true,
    "editable": true,
    "scrolled": true
   },
   "outputs": [
    {
     "data": {
      "text/plain": [
       "0    -5\n",
       "1   -10\n",
       "2     9\n",
       "3     6\n",
       "4     4\n",
       "5    -9\n",
       "6     3\n",
       "7    -6\n",
       "8    -7\n",
       "9    -4\n",
       "Name: 1, dtype: int32"
      ]
     },
     "execution_count": 100,
     "metadata": {},
     "output_type": "execute_result"
    }
   ],
   "source": [
    "df[1]"
   ]
  },
  {
   "cell_type": "code",
   "execution_count": 102,
   "metadata": {
    "collapsed": false,
    "deletable": true,
    "editable": true
   },
   "outputs": [
    {
     "data": {
      "text/plain": [
       "[40, 50, 60, 70]"
      ]
     },
     "execution_count": 102,
     "metadata": {},
     "output_type": "execute_result"
    }
   ],
   "source": [
    "my_list = [10, 20, 30, 40, 50, 60, 70, 80]\n",
    "my_list[3:7]"
   ]
  },
  {
   "cell_type": "code",
   "execution_count": 101,
   "metadata": {
    "collapsed": false,
    "deletable": true,
    "editable": true
   },
   "outputs": [
    {
     "data": {
      "text/html": [
       "<div>\n",
       "<table border=\"1\" class=\"dataframe\">\n",
       "  <thead>\n",
       "    <tr style=\"text-align: right;\">\n",
       "      <th></th>\n",
       "      <th>0</th>\n",
       "      <th>1</th>\n",
       "      <th>2</th>\n",
       "      <th>3</th>\n",
       "      <th>4</th>\n",
       "      <th>5</th>\n",
       "      <th>6</th>\n",
       "      <th>7</th>\n",
       "      <th>8</th>\n",
       "      <th>9</th>\n",
       "    </tr>\n",
       "  </thead>\n",
       "  <tbody>\n",
       "    <tr>\n",
       "      <th>3</th>\n",
       "      <td>-9</td>\n",
       "      <td>6</td>\n",
       "      <td>3</td>\n",
       "      <td>6</td>\n",
       "      <td>-10</td>\n",
       "      <td>-9</td>\n",
       "      <td>9</td>\n",
       "      <td>0</td>\n",
       "      <td>-9</td>\n",
       "      <td>-6</td>\n",
       "    </tr>\n",
       "    <tr>\n",
       "      <th>4</th>\n",
       "      <td>-3</td>\n",
       "      <td>4</td>\n",
       "      <td>4</td>\n",
       "      <td>2</td>\n",
       "      <td>9</td>\n",
       "      <td>-9</td>\n",
       "      <td>1</td>\n",
       "      <td>8</td>\n",
       "      <td>9</td>\n",
       "      <td>9</td>\n",
       "    </tr>\n",
       "    <tr>\n",
       "      <th>5</th>\n",
       "      <td>4</td>\n",
       "      <td>-9</td>\n",
       "      <td>7</td>\n",
       "      <td>6</td>\n",
       "      <td>4</td>\n",
       "      <td>-1</td>\n",
       "      <td>3</td>\n",
       "      <td>7</td>\n",
       "      <td>-3</td>\n",
       "      <td>-10</td>\n",
       "    </tr>\n",
       "    <tr>\n",
       "      <th>6</th>\n",
       "      <td>7</td>\n",
       "      <td>3</td>\n",
       "      <td>-4</td>\n",
       "      <td>3</td>\n",
       "      <td>-4</td>\n",
       "      <td>-5</td>\n",
       "      <td>2</td>\n",
       "      <td>5</td>\n",
       "      <td>-9</td>\n",
       "      <td>-8</td>\n",
       "    </tr>\n",
       "  </tbody>\n",
       "</table>\n",
       "</div>"
      ],
      "text/plain": [
       "   0  1  2  3   4  5  6  7  8   9\n",
       "3 -9  6  3  6 -10 -9  9  0 -9  -6\n",
       "4 -3  4  4  2   9 -9  1  8  9   9\n",
       "5  4 -9  7  6   4 -1  3  7 -3 -10\n",
       "6  7  3 -4  3  -4 -5  2  5 -9  -8"
      ]
     },
     "execution_count": 101,
     "metadata": {},
     "output_type": "execute_result"
    }
   ],
   "source": [
    "df[3:7]"
   ]
  },
  {
   "cell_type": "code",
   "execution_count": 106,
   "metadata": {
    "collapsed": false,
    "deletable": true,
    "editable": true
   },
   "outputs": [
    {
     "data": {
      "text/html": [
       "<div>\n",
       "<table border=\"1\" class=\"dataframe\">\n",
       "  <thead>\n",
       "    <tr style=\"text-align: right;\">\n",
       "      <th></th>\n",
       "      <th>0</th>\n",
       "      <th>1</th>\n",
       "      <th>2</th>\n",
       "      <th>3</th>\n",
       "      <th>4</th>\n",
       "      <th>5</th>\n",
       "      <th>6</th>\n",
       "      <th>7</th>\n",
       "      <th>8</th>\n",
       "      <th>9</th>\n",
       "    </tr>\n",
       "  </thead>\n",
       "  <tbody>\n",
       "    <tr>\n",
       "      <th>3</th>\n",
       "      <td>-9</td>\n",
       "      <td>6</td>\n",
       "      <td>3</td>\n",
       "      <td>6</td>\n",
       "      <td>-10</td>\n",
       "      <td>-9</td>\n",
       "      <td>9</td>\n",
       "      <td>0</td>\n",
       "      <td>-9</td>\n",
       "      <td>-6</td>\n",
       "    </tr>\n",
       "    <tr>\n",
       "      <th>4</th>\n",
       "      <td>-3</td>\n",
       "      <td>4</td>\n",
       "      <td>4</td>\n",
       "      <td>2</td>\n",
       "      <td>9</td>\n",
       "      <td>-9</td>\n",
       "      <td>1</td>\n",
       "      <td>8</td>\n",
       "      <td>9</td>\n",
       "      <td>9</td>\n",
       "    </tr>\n",
       "    <tr>\n",
       "      <th>5</th>\n",
       "      <td>4</td>\n",
       "      <td>-9</td>\n",
       "      <td>7</td>\n",
       "      <td>6</td>\n",
       "      <td>4</td>\n",
       "      <td>-1</td>\n",
       "      <td>3</td>\n",
       "      <td>7</td>\n",
       "      <td>-3</td>\n",
       "      <td>-10</td>\n",
       "    </tr>\n",
       "    <tr>\n",
       "      <th>6</th>\n",
       "      <td>7</td>\n",
       "      <td>3</td>\n",
       "      <td>-4</td>\n",
       "      <td>3</td>\n",
       "      <td>-4</td>\n",
       "      <td>-5</td>\n",
       "      <td>2</td>\n",
       "      <td>5</td>\n",
       "      <td>-9</td>\n",
       "      <td>-8</td>\n",
       "    </tr>\n",
       "    <tr>\n",
       "      <th>7</th>\n",
       "      <td>1</td>\n",
       "      <td>-6</td>\n",
       "      <td>-2</td>\n",
       "      <td>4</td>\n",
       "      <td>9</td>\n",
       "      <td>5</td>\n",
       "      <td>7</td>\n",
       "      <td>0</td>\n",
       "      <td>-3</td>\n",
       "      <td>0</td>\n",
       "    </tr>\n",
       "  </tbody>\n",
       "</table>\n",
       "</div>"
      ],
      "text/plain": [
       "   0  1  2  3   4  5  6  7  8   9\n",
       "3 -9  6  3  6 -10 -9  9  0 -9  -6\n",
       "4 -3  4  4  2   9 -9  1  8  9   9\n",
       "5  4 -9  7  6   4 -1  3  7 -3 -10\n",
       "6  7  3 -4  3  -4 -5  2  5 -9  -8\n",
       "7  1 -6 -2  4   9  5  7  0 -3   0"
      ]
     },
     "execution_count": 106,
     "metadata": {},
     "output_type": "execute_result"
    }
   ],
   "source": [
    "df.loc[3:7]"
   ]
  },
  {
   "cell_type": "code",
   "execution_count": 105,
   "metadata": {
    "collapsed": false,
    "deletable": true,
    "editable": true
   },
   "outputs": [
    {
     "data": {
      "text/html": [
       "<div>\n",
       "<table border=\"1\" class=\"dataframe\">\n",
       "  <thead>\n",
       "    <tr style=\"text-align: right;\">\n",
       "      <th></th>\n",
       "      <th>3</th>\n",
       "      <th>4</th>\n",
       "      <th>5</th>\n",
       "      <th>6</th>\n",
       "      <th>7</th>\n",
       "    </tr>\n",
       "  </thead>\n",
       "  <tbody>\n",
       "    <tr>\n",
       "      <th>0</th>\n",
       "      <td>9</td>\n",
       "      <td>-4</td>\n",
       "      <td>-7</td>\n",
       "      <td>0</td>\n",
       "      <td>-10</td>\n",
       "    </tr>\n",
       "    <tr>\n",
       "      <th>1</th>\n",
       "      <td>0</td>\n",
       "      <td>-8</td>\n",
       "      <td>-8</td>\n",
       "      <td>-7</td>\n",
       "      <td>-4</td>\n",
       "    </tr>\n",
       "    <tr>\n",
       "      <th>2</th>\n",
       "      <td>-7</td>\n",
       "      <td>-1</td>\n",
       "      <td>-5</td>\n",
       "      <td>6</td>\n",
       "      <td>-3</td>\n",
       "    </tr>\n",
       "    <tr>\n",
       "      <th>3</th>\n",
       "      <td>6</td>\n",
       "      <td>-10</td>\n",
       "      <td>-9</td>\n",
       "      <td>9</td>\n",
       "      <td>0</td>\n",
       "    </tr>\n",
       "    <tr>\n",
       "      <th>4</th>\n",
       "      <td>2</td>\n",
       "      <td>9</td>\n",
       "      <td>-9</td>\n",
       "      <td>1</td>\n",
       "      <td>8</td>\n",
       "    </tr>\n",
       "    <tr>\n",
       "      <th>5</th>\n",
       "      <td>6</td>\n",
       "      <td>4</td>\n",
       "      <td>-1</td>\n",
       "      <td>3</td>\n",
       "      <td>7</td>\n",
       "    </tr>\n",
       "    <tr>\n",
       "      <th>6</th>\n",
       "      <td>3</td>\n",
       "      <td>-4</td>\n",
       "      <td>-5</td>\n",
       "      <td>2</td>\n",
       "      <td>5</td>\n",
       "    </tr>\n",
       "    <tr>\n",
       "      <th>7</th>\n",
       "      <td>4</td>\n",
       "      <td>9</td>\n",
       "      <td>5</td>\n",
       "      <td>7</td>\n",
       "      <td>0</td>\n",
       "    </tr>\n",
       "    <tr>\n",
       "      <th>8</th>\n",
       "      <td>-3</td>\n",
       "      <td>0</td>\n",
       "      <td>-8</td>\n",
       "      <td>7</td>\n",
       "      <td>-9</td>\n",
       "    </tr>\n",
       "    <tr>\n",
       "      <th>9</th>\n",
       "      <td>-5</td>\n",
       "      <td>-2</td>\n",
       "      <td>-3</td>\n",
       "      <td>-6</td>\n",
       "      <td>-10</td>\n",
       "    </tr>\n",
       "  </tbody>\n",
       "</table>\n",
       "</div>"
      ],
      "text/plain": [
       "   3   4  5  6   7\n",
       "0  9  -4 -7  0 -10\n",
       "1  0  -8 -8 -7  -4\n",
       "2 -7  -1 -5  6  -3\n",
       "3  6 -10 -9  9   0\n",
       "4  2   9 -9  1   8\n",
       "5  6   4 -1  3   7\n",
       "6  3  -4 -5  2   5\n",
       "7  4   9  5  7   0\n",
       "8 -3   0 -8  7  -9\n",
       "9 -5  -2 -3 -6 -10"
      ]
     },
     "execution_count": 105,
     "metadata": {},
     "output_type": "execute_result"
    }
   ],
   "source": [
    "df.loc[:, 3:7]"
   ]
  },
  {
   "cell_type": "code",
   "execution_count": 107,
   "metadata": {
    "collapsed": true,
    "deletable": true,
    "editable": true
   },
   "outputs": [],
   "source": [
    "df = pd.DataFrame(np.random.randint(-10, 10, size=(4, 4)),\n",
    "                 columns=['a', 'b', 'c', 'd'],\n",
    "                 index=['q', 'w', 'e', 'r'])"
   ]
  },
  {
   "cell_type": "code",
   "execution_count": 108,
   "metadata": {
    "collapsed": false,
    "deletable": true,
    "editable": true
   },
   "outputs": [
    {
     "data": {
      "text/html": [
       "<div>\n",
       "<table border=\"1\" class=\"dataframe\">\n",
       "  <thead>\n",
       "    <tr style=\"text-align: right;\">\n",
       "      <th></th>\n",
       "      <th>a</th>\n",
       "      <th>b</th>\n",
       "      <th>c</th>\n",
       "      <th>d</th>\n",
       "    </tr>\n",
       "  </thead>\n",
       "  <tbody>\n",
       "    <tr>\n",
       "      <th>q</th>\n",
       "      <td>-1</td>\n",
       "      <td>1</td>\n",
       "      <td>-2</td>\n",
       "      <td>4</td>\n",
       "    </tr>\n",
       "    <tr>\n",
       "      <th>w</th>\n",
       "      <td>-3</td>\n",
       "      <td>9</td>\n",
       "      <td>4</td>\n",
       "      <td>9</td>\n",
       "    </tr>\n",
       "    <tr>\n",
       "      <th>e</th>\n",
       "      <td>9</td>\n",
       "      <td>-8</td>\n",
       "      <td>-3</td>\n",
       "      <td>2</td>\n",
       "    </tr>\n",
       "    <tr>\n",
       "      <th>r</th>\n",
       "      <td>-6</td>\n",
       "      <td>-8</td>\n",
       "      <td>7</td>\n",
       "      <td>4</td>\n",
       "    </tr>\n",
       "  </tbody>\n",
       "</table>\n",
       "</div>"
      ],
      "text/plain": [
       "   a  b  c  d\n",
       "q -1  1 -2  4\n",
       "w -3  9  4  9\n",
       "e  9 -8 -3  2\n",
       "r -6 -8  7  4"
      ]
     },
     "execution_count": 108,
     "metadata": {},
     "output_type": "execute_result"
    }
   ],
   "source": [
    "df"
   ]
  },
  {
   "cell_type": "code",
   "execution_count": 109,
   "metadata": {
    "collapsed": false,
    "deletable": true,
    "editable": true
   },
   "outputs": [
    {
     "data": {
      "text/html": [
       "<div>\n",
       "<table border=\"1\" class=\"dataframe\">\n",
       "  <thead>\n",
       "    <tr style=\"text-align: right;\">\n",
       "      <th></th>\n",
       "      <th>a</th>\n",
       "      <th>b</th>\n",
       "      <th>c</th>\n",
       "      <th>d</th>\n",
       "    </tr>\n",
       "  </thead>\n",
       "  <tbody>\n",
       "    <tr>\n",
       "      <th>q</th>\n",
       "      <td>-1</td>\n",
       "      <td>1</td>\n",
       "      <td>-2</td>\n",
       "      <td>4</td>\n",
       "    </tr>\n",
       "    <tr>\n",
       "      <th>w</th>\n",
       "      <td>-3</td>\n",
       "      <td>9</td>\n",
       "      <td>4</td>\n",
       "      <td>9</td>\n",
       "    </tr>\n",
       "    <tr>\n",
       "      <th>e</th>\n",
       "      <td>9</td>\n",
       "      <td>-8</td>\n",
       "      <td>-3</td>\n",
       "      <td>2</td>\n",
       "    </tr>\n",
       "  </tbody>\n",
       "</table>\n",
       "</div>"
      ],
      "text/plain": [
       "   a  b  c  d\n",
       "q -1  1 -2  4\n",
       "w -3  9  4  9\n",
       "e  9 -8 -3  2"
      ]
     },
     "execution_count": 109,
     "metadata": {},
     "output_type": "execute_result"
    }
   ],
   "source": [
    "df['q':'e']"
   ]
  },
  {
   "cell_type": "code",
   "execution_count": 111,
   "metadata": {
    "collapsed": false,
    "deletable": true,
    "editable": true
   },
   "outputs": [
    {
     "data": {
      "text/html": [
       "<div>\n",
       "<table border=\"1\" class=\"dataframe\">\n",
       "  <thead>\n",
       "    <tr style=\"text-align: right;\">\n",
       "      <th></th>\n",
       "      <th>a</th>\n",
       "      <th>b</th>\n",
       "      <th>c</th>\n",
       "      <th>d</th>\n",
       "    </tr>\n",
       "  </thead>\n",
       "  <tbody>\n",
       "    <tr>\n",
       "      <th>w</th>\n",
       "      <td>-3</td>\n",
       "      <td>9</td>\n",
       "      <td>4</td>\n",
       "      <td>9</td>\n",
       "    </tr>\n",
       "    <tr>\n",
       "      <th>e</th>\n",
       "      <td>9</td>\n",
       "      <td>-8</td>\n",
       "      <td>-3</td>\n",
       "      <td>2</td>\n",
       "    </tr>\n",
       "  </tbody>\n",
       "</table>\n",
       "</div>"
      ],
      "text/plain": [
       "   a  b  c  d\n",
       "w -3  9  4  9\n",
       "e  9 -8 -3  2"
      ]
     },
     "execution_count": 111,
     "metadata": {},
     "output_type": "execute_result"
    }
   ],
   "source": [
    "df[1:3]"
   ]
  },
  {
   "cell_type": "code",
   "execution_count": 112,
   "metadata": {
    "collapsed": false,
    "deletable": true,
    "editable": true
   },
   "outputs": [
    {
     "data": {
      "text/html": [
       "<div>\n",
       "<table border=\"1\" class=\"dataframe\">\n",
       "  <thead>\n",
       "    <tr style=\"text-align: right;\">\n",
       "      <th></th>\n",
       "      <th>a</th>\n",
       "      <th>b</th>\n",
       "      <th>c</th>\n",
       "    </tr>\n",
       "  </thead>\n",
       "  <tbody>\n",
       "    <tr>\n",
       "      <th>q</th>\n",
       "      <td>-1</td>\n",
       "      <td>1</td>\n",
       "      <td>-2</td>\n",
       "    </tr>\n",
       "    <tr>\n",
       "      <th>w</th>\n",
       "      <td>-3</td>\n",
       "      <td>9</td>\n",
       "      <td>4</td>\n",
       "    </tr>\n",
       "    <tr>\n",
       "      <th>e</th>\n",
       "      <td>9</td>\n",
       "      <td>-8</td>\n",
       "      <td>-3</td>\n",
       "    </tr>\n",
       "    <tr>\n",
       "      <th>r</th>\n",
       "      <td>-6</td>\n",
       "      <td>-8</td>\n",
       "      <td>7</td>\n",
       "    </tr>\n",
       "  </tbody>\n",
       "</table>\n",
       "</div>"
      ],
      "text/plain": [
       "   a  b  c\n",
       "q -1  1 -2\n",
       "w -3  9  4\n",
       "e  9 -8 -3\n",
       "r -6 -8  7"
      ]
     },
     "execution_count": 112,
     "metadata": {},
     "output_type": "execute_result"
    }
   ],
   "source": [
    "df.loc[:, 'a':'c']"
   ]
  },
  {
   "cell_type": "code",
   "execution_count": 114,
   "metadata": {
    "collapsed": false,
    "deletable": true,
    "editable": true
   },
   "outputs": [
    {
     "data": {
      "text/html": [
       "<div>\n",
       "<table border=\"1\" class=\"dataframe\">\n",
       "  <thead>\n",
       "    <tr style=\"text-align: right;\">\n",
       "      <th></th>\n",
       "      <th>b</th>\n",
       "      <th>c</th>\n",
       "    </tr>\n",
       "  </thead>\n",
       "  <tbody>\n",
       "    <tr>\n",
       "      <th>q</th>\n",
       "      <td>1</td>\n",
       "      <td>-2</td>\n",
       "    </tr>\n",
       "    <tr>\n",
       "      <th>w</th>\n",
       "      <td>9</td>\n",
       "      <td>4</td>\n",
       "    </tr>\n",
       "    <tr>\n",
       "      <th>e</th>\n",
       "      <td>-8</td>\n",
       "      <td>-3</td>\n",
       "    </tr>\n",
       "    <tr>\n",
       "      <th>r</th>\n",
       "      <td>-8</td>\n",
       "      <td>7</td>\n",
       "    </tr>\n",
       "  </tbody>\n",
       "</table>\n",
       "</div>"
      ],
      "text/plain": [
       "   b  c\n",
       "q  1 -2\n",
       "w  9  4\n",
       "e -8 -3\n",
       "r -8  7"
      ]
     },
     "execution_count": 114,
     "metadata": {},
     "output_type": "execute_result"
    }
   ],
   "source": [
    "df.iloc[:, 1:3]"
   ]
  },
  {
   "cell_type": "code",
   "execution_count": 115,
   "metadata": {
    "collapsed": true,
    "deletable": true,
    "editable": true
   },
   "outputs": [],
   "source": [
    "df = pd.DataFrame(np.random.randint(-10, 10, size=(4, 4)),\n",
    "                 columns=[1, 2, 10, 4],\n",
    "                 index=[3, 4, 5, 6])"
   ]
  },
  {
   "cell_type": "code",
   "execution_count": 116,
   "metadata": {
    "collapsed": false,
    "deletable": true,
    "editable": true
   },
   "outputs": [
    {
     "data": {
      "text/html": [
       "<div>\n",
       "<table border=\"1\" class=\"dataframe\">\n",
       "  <thead>\n",
       "    <tr style=\"text-align: right;\">\n",
       "      <th></th>\n",
       "      <th>1</th>\n",
       "      <th>2</th>\n",
       "      <th>10</th>\n",
       "      <th>4</th>\n",
       "    </tr>\n",
       "  </thead>\n",
       "  <tbody>\n",
       "    <tr>\n",
       "      <th>3</th>\n",
       "      <td>-8</td>\n",
       "      <td>-8</td>\n",
       "      <td>-3</td>\n",
       "      <td>8</td>\n",
       "    </tr>\n",
       "    <tr>\n",
       "      <th>4</th>\n",
       "      <td>4</td>\n",
       "      <td>-1</td>\n",
       "      <td>-1</td>\n",
       "      <td>9</td>\n",
       "    </tr>\n",
       "    <tr>\n",
       "      <th>5</th>\n",
       "      <td>0</td>\n",
       "      <td>1</td>\n",
       "      <td>8</td>\n",
       "      <td>-6</td>\n",
       "    </tr>\n",
       "    <tr>\n",
       "      <th>6</th>\n",
       "      <td>-4</td>\n",
       "      <td>-7</td>\n",
       "      <td>1</td>\n",
       "      <td>-7</td>\n",
       "    </tr>\n",
       "  </tbody>\n",
       "</table>\n",
       "</div>"
      ],
      "text/plain": [
       "   1   2   10  4 \n",
       "3  -8  -8  -3   8\n",
       "4   4  -1  -1   9\n",
       "5   0   1   8  -6\n",
       "6  -4  -7   1  -7"
      ]
     },
     "execution_count": 116,
     "metadata": {},
     "output_type": "execute_result"
    }
   ],
   "source": [
    "df"
   ]
  },
  {
   "cell_type": "code",
   "execution_count": 117,
   "metadata": {
    "collapsed": false,
    "deletable": true,
    "editable": true
   },
   "outputs": [
    {
     "data": {
      "text/plain": [
       "1    -8\n",
       "2    -8\n",
       "10   -3\n",
       "4     8\n",
       "Name: 3, dtype: int32"
      ]
     },
     "execution_count": 117,
     "metadata": {},
     "output_type": "execute_result"
    }
   ],
   "source": [
    "df.loc[3]"
   ]
  },
  {
   "cell_type": "code",
   "execution_count": 118,
   "metadata": {
    "collapsed": false,
    "deletable": true,
    "editable": true
   },
   "outputs": [
    {
     "data": {
      "text/plain": [
       "1    -4\n",
       "2    -7\n",
       "10    1\n",
       "4    -7\n",
       "Name: 6, dtype: int32"
      ]
     },
     "execution_count": 118,
     "metadata": {},
     "output_type": "execute_result"
    }
   ],
   "source": [
    "df.iloc[3]"
   ]
  },
  {
   "cell_type": "code",
   "execution_count": 119,
   "metadata": {
    "collapsed": false,
    "deletable": true,
    "editable": true
   },
   "outputs": [
    {
     "data": {
      "text/plain": [
       "Int64Index([1, 2, 10, 4], dtype='int64')"
      ]
     },
     "execution_count": 119,
     "metadata": {},
     "output_type": "execute_result"
    }
   ],
   "source": [
    "df.columns"
   ]
  },
  {
   "cell_type": "code",
   "execution_count": 120,
   "metadata": {
    "collapsed": false,
    "deletable": true,
    "editable": true
   },
   "outputs": [
    {
     "data": {
      "text/plain": [
       "Int64Index([3, 4, 5, 6], dtype='int64')"
      ]
     },
     "execution_count": 120,
     "metadata": {},
     "output_type": "execute_result"
    }
   ],
   "source": [
    "df.index"
   ]
  },
  {
   "cell_type": "code",
   "execution_count": 123,
   "metadata": {
    "collapsed": false,
    "deletable": true,
    "editable": true
   },
   "outputs": [],
   "source": [
    "df.rename(columns={1: 15}, inplace=True)"
   ]
  },
  {
   "cell_type": "code",
   "execution_count": 152,
   "metadata": {
    "collapsed": false,
    "deletable": true,
    "editable": true
   },
   "outputs": [],
   "source": [
    "df = pd.read_csv(\"http://www.ats.ucla.edu/stat/data/hsb2.csv\")"
   ]
  },
  {
   "cell_type": "code",
   "execution_count": 131,
   "metadata": {
    "collapsed": false,
    "deletable": true,
    "editable": true
   },
   "outputs": [
    {
     "data": {
      "text/plain": [
       "read       52.230\n",
       "write      52.775\n",
       "math       52.645\n",
       "science    51.850\n",
       "socst      52.405\n",
       "dtype: float64"
      ]
     },
     "execution_count": 131,
     "metadata": {},
     "output_type": "execute_result"
    }
   ],
   "source": [
    "df[['read', 'write', 'math', 'science', 'socst']].mean()"
   ]
  },
  {
   "cell_type": "code",
   "execution_count": 132,
   "metadata": {
    "collapsed": true,
    "deletable": true,
    "editable": true
   },
   "outputs": [],
   "source": [
    "%matplotlib inline"
   ]
  },
  {
   "cell_type": "code",
   "execution_count": 133,
   "metadata": {
    "collapsed": false,
    "deletable": true,
    "editable": true
   },
   "outputs": [
    {
     "data": {
      "text/plain": [
       "<matplotlib.axes._subplots.AxesSubplot at 0x77a1cd0>"
      ]
     },
     "execution_count": 133,
     "metadata": {},
     "output_type": "execute_result"
    },
    {
     "data": {
      "image/png": "[encoded data removed]",
      "text/plain": [
       "<matplotlib.figure.Figure at 0x77a13b0>"
      ]
     },
     "metadata": {},
     "output_type": "display_data"
    }
   ],
   "source": [
    "df.plot.scatter(x='read', y='write')"
   ]
  },
  {
   "cell_type": "code",
   "execution_count": 142,
   "metadata": {
    "collapsed": false,
    "deletable": true,
    "editable": true
   },
   "outputs": [
    {
     "data": {
      "text/html": [
       "<div>\n",
       "<table border=\"1\" class=\"dataframe\">\n",
       "  <thead>\n",
       "    <tr style=\"text-align: right;\">\n",
       "      <th></th>\n",
       "      <th>read</th>\n",
       "      <th>write</th>\n",
       "      <th>math</th>\n",
       "      <th>science</th>\n",
       "      <th>socst</th>\n",
       "    </tr>\n",
       "    <tr>\n",
       "      <th>ses</th>\n",
       "      <th></th>\n",
       "      <th></th>\n",
       "      <th></th>\n",
       "      <th></th>\n",
       "      <th></th>\n",
       "    </tr>\n",
       "  </thead>\n",
       "  <tbody>\n",
       "    <tr>\n",
       "      <th>1</th>\n",
       "      <td>48.276596</td>\n",
       "      <td>50.617021</td>\n",
       "      <td>49.170213</td>\n",
       "      <td>47.702128</td>\n",
       "      <td>47.319149</td>\n",
       "    </tr>\n",
       "    <tr>\n",
       "      <th>2</th>\n",
       "      <td>51.578947</td>\n",
       "      <td>51.926316</td>\n",
       "      <td>52.210526</td>\n",
       "      <td>51.705263</td>\n",
       "      <td>52.031579</td>\n",
       "    </tr>\n",
       "    <tr>\n",
       "      <th>3</th>\n",
       "      <td>56.500000</td>\n",
       "      <td>55.913793</td>\n",
       "      <td>56.172414</td>\n",
       "      <td>55.448276</td>\n",
       "      <td>57.137931</td>\n",
       "    </tr>\n",
       "  </tbody>\n",
       "</table>\n",
       "</div>"
      ],
      "text/plain": [
       "          read      write       math    science      socst\n",
       "ses                                                       \n",
       "1    48.276596  50.617021  49.170213  47.702128  47.319149\n",
       "2    51.578947  51.926316  52.210526  51.705263  52.031579\n",
       "3    56.500000  55.913793  56.172414  55.448276  57.137931"
      ]
     },
     "execution_count": 142,
     "metadata": {},
     "output_type": "execute_result"
    }
   ],
   "source": [
    "courses = ['read', 'write', 'math', 'science', 'socst']\n",
    "df.groupby('ses').mean()[courses]"
   ]
  },
  {
   "cell_type": "code",
   "execution_count": 148,
   "metadata": {
    "collapsed": false,
    "deletable": true,
    "editable": true
   },
   "outputs": [
    {
     "data": {
      "text/plain": [
       "array([[<matplotlib.axes._subplots.AxesSubplot object at 0x074B4870>]], dtype=object)"
      ]
     },
     "execution_count": 148,
     "metadata": {},
     "output_type": "execute_result"
    },
    {
     "data": {
      "image/png": "[encoded data removed]",
      "text/plain": [
       "<matplotlib.figure.Figure at 0x7792c90>"
      ]
     },
     "metadata": {},
     "output_type": "display_data"
    }
   ],
   "source": [
    "# df[(df['schtyp'] == 1) & (df['prog'] == 3)]\n",
    "df.query('schtyp == 1 and prog == 3').hist('read')"
   ]
  },
  {
   "cell_type": "code",
   "execution_count": 153,
   "metadata": {
    "collapsed": false,
    "deletable": true,
    "editable": true
   },
   "outputs": [],
   "source": [
    "df['gender'] = 'male'\n",
    "df.loc[df['female'] == 1, 'gender'] = 'female'"
   ]
  },
  {
   "cell_type": "code",
   "execution_count": 160,
   "metadata": {
    "collapsed": false,
    "deletable": true,
    "editable": true
   },
   "outputs": [],
   "source": [
    "df['average'] = df[courses].mean(axis=1)"
   ]
  },
  {
   "cell_type": "code",
   "execution_count": 162,
   "metadata": {
    "collapsed": false,
    "deletable": true,
    "editable": true
   },
   "outputs": [
    {
     "data": {
      "text/plain": [
       "['read', 'write', 'math', 'science', 'socst']"
      ]
     },
     "execution_count": 162,
     "metadata": {},
     "output_type": "execute_result"
    }
   ],
   "source": [
    "courses"
   ]
  },
  {
   "cell_type": "code",
   "execution_count": 164,
   "metadata": {
    "collapsed": false,
    "deletable": true,
    "editable": true
   },
   "outputs": [],
   "source": [
    "weights = pd.Series({'read': 0.2, 'write': 0.1, 'math': 0.3, 'socst': 0.1, \n",
    "                     'science': 0.3})"
   ]
  },
  {
   "cell_type": "code",
   "execution_count": 165,
   "metadata": {
    "collapsed": false,
    "deletable": true,
    "editable": true
   },
   "outputs": [
    {
     "data": {
      "text/plain": [
       "math       0.3\n",
       "read       0.2\n",
       "science    0.3\n",
       "socst      0.1\n",
       "write      0.1\n",
       "dtype: float64"
      ]
     },
     "execution_count": 165,
     "metadata": {},
     "output_type": "execute_result"
    }
   ],
   "source": [
    "weights"
   ]
  },
  {
   "cell_type": "code",
   "execution_count": 174,
   "metadata": {
    "collapsed": false,
    "deletable": true,
    "editable": true
   },
   "outputs": [],
   "source": [
    "df['weighted_average'] = df[courses].dot(weights)"
   ]
  },
  {
   "cell_type": "code",
   "execution_count": 179,
   "metadata": {
    "collapsed": false,
    "deletable": true,
    "editable": true
   },
   "outputs": [],
   "source": [
    "df.sort_values('id', inplace=True)"
   ]
  },
  {
   "cell_type": "code",
   "execution_count": 185,
   "metadata": {
    "collapsed": false,
    "deletable": true,
    "editable": true
   },
   "outputs": [
    {
     "data": {
      "text/plain": [
       "array([[<matplotlib.axes._subplots.AxesSubplot object at 0x05944CD0>]], dtype=object)"
      ]
     },
     "execution_count": 185,
     "metadata": {},
     "output_type": "execute_result"
    },
    {
     "data": {
      "image/png": "[encoded data removed]",
      "text/plain": [
       "<matplotlib.figure.Figure at 0x6c75e30>"
      ]
     },
     "metadata": {},
     "output_type": "display_data"
    }
   ],
   "source": []
  },
  {
   "cell_type": "code",
   "execution_count": 183,
   "metadata": {
    "collapsed": false,
    "deletable": true,
    "editable": true
   },
   "outputs": [
    {
     "data": {
      "text/html": [
       "<div>\n",
       "<table border=\"1\" class=\"dataframe\">\n",
       "  <thead>\n",
       "    <tr style=\"text-align: right;\">\n",
       "      <th></th>\n",
       "      <th>id</th>\n",
       "      <th>female</th>\n",
       "      <th>race</th>\n",
       "      <th>ses</th>\n",
       "      <th>schtyp</th>\n",
       "      <th>prog</th>\n",
       "      <th>read</th>\n",
       "      <th>write</th>\n",
       "      <th>math</th>\n",
       "      <th>science</th>\n",
       "      <th>socst</th>\n",
       "      <th>gender</th>\n",
       "      <th>average</th>\n",
       "      <th>weighted_average</th>\n",
       "    </tr>\n",
       "  </thead>\n",
       "  <tbody>\n",
       "    <tr>\n",
       "      <th>52</th>\n",
       "      <td>21</td>\n",
       "      <td>0</td>\n",
       "      <td>1</td>\n",
       "      <td>2</td>\n",
       "      <td>1</td>\n",
       "      <td>1</td>\n",
       "      <td>44</td>\n",
       "      <td>44</td>\n",
       "      <td>61</td>\n",
       "      <td>50</td>\n",
       "      <td>46</td>\n",
       "      <td>male</td>\n",
       "      <td>49.0</td>\n",
       "      <td>51.1</td>\n",
       "    </tr>\n",
       "    <tr>\n",
       "      <th>29</th>\n",
       "      <td>29</td>\n",
       "      <td>0</td>\n",
       "      <td>2</td>\n",
       "      <td>1</td>\n",
       "      <td>1</td>\n",
       "      <td>1</td>\n",
       "      <td>52</td>\n",
       "      <td>44</td>\n",
       "      <td>49</td>\n",
       "      <td>55</td>\n",
       "      <td>41</td>\n",
       "      <td>male</td>\n",
       "      <td>48.2</td>\n",
       "      <td>50.1</td>\n",
       "    </tr>\n",
       "    <tr>\n",
       "      <th>43</th>\n",
       "      <td>40</td>\n",
       "      <td>0</td>\n",
       "      <td>3</td>\n",
       "      <td>1</td>\n",
       "      <td>1</td>\n",
       "      <td>1</td>\n",
       "      <td>42</td>\n",
       "      <td>41</td>\n",
       "      <td>43</td>\n",
       "      <td>50</td>\n",
       "      <td>41</td>\n",
       "      <td>male</td>\n",
       "      <td>43.4</td>\n",
       "      <td>44.5</td>\n",
       "    </tr>\n",
       "    <tr>\n",
       "      <th>6</th>\n",
       "      <td>50</td>\n",
       "      <td>0</td>\n",
       "      <td>3</td>\n",
       "      <td>2</td>\n",
       "      <td>1</td>\n",
       "      <td>1</td>\n",
       "      <td>50</td>\n",
       "      <td>59</td>\n",
       "      <td>42</td>\n",
       "      <td>53</td>\n",
       "      <td>61</td>\n",
       "      <td>male</td>\n",
       "      <td>53.0</td>\n",
       "      <td>50.5</td>\n",
       "    </tr>\n",
       "    <tr>\n",
       "      <th>44</th>\n",
       "      <td>62</td>\n",
       "      <td>0</td>\n",
       "      <td>4</td>\n",
       "      <td>3</td>\n",
       "      <td>1</td>\n",
       "      <td>1</td>\n",
       "      <td>65</td>\n",
       "      <td>65</td>\n",
       "      <td>48</td>\n",
       "      <td>63</td>\n",
       "      <td>66</td>\n",
       "      <td>male</td>\n",
       "      <td>61.4</td>\n",
       "      <td>59.4</td>\n",
       "    </tr>\n",
       "    <tr>\n",
       "      <th>0</th>\n",
       "      <td>70</td>\n",
       "      <td>0</td>\n",
       "      <td>4</td>\n",
       "      <td>1</td>\n",
       "      <td>1</td>\n",
       "      <td>1</td>\n",
       "      <td>57</td>\n",
       "      <td>52</td>\n",
       "      <td>41</td>\n",
       "      <td>47</td>\n",
       "      <td>57</td>\n",
       "      <td>male</td>\n",
       "      <td>50.8</td>\n",
       "      <td>48.7</td>\n",
       "    </tr>\n",
       "    <tr>\n",
       "      <th>8</th>\n",
       "      <td>84</td>\n",
       "      <td>0</td>\n",
       "      <td>4</td>\n",
       "      <td>2</td>\n",
       "      <td>1</td>\n",
       "      <td>1</td>\n",
       "      <td>63</td>\n",
       "      <td>57</td>\n",
       "      <td>54</td>\n",
       "      <td>58</td>\n",
       "      <td>51</td>\n",
       "      <td>male</td>\n",
       "      <td>56.6</td>\n",
       "      <td>57.0</td>\n",
       "    </tr>\n",
       "    <tr>\n",
       "      <th>19</th>\n",
       "      <td>85</td>\n",
       "      <td>0</td>\n",
       "      <td>4</td>\n",
       "      <td>2</td>\n",
       "      <td>1</td>\n",
       "      <td>1</td>\n",
       "      <td>55</td>\n",
       "      <td>39</td>\n",
       "      <td>57</td>\n",
       "      <td>53</td>\n",
       "      <td>46</td>\n",
       "      <td>male</td>\n",
       "      <td>50.0</td>\n",
       "      <td>52.5</td>\n",
       "    </tr>\n",
       "    <tr>\n",
       "      <th>2</th>\n",
       "      <td>86</td>\n",
       "      <td>0</td>\n",
       "      <td>4</td>\n",
       "      <td>3</td>\n",
       "      <td>1</td>\n",
       "      <td>1</td>\n",
       "      <td>44</td>\n",
       "      <td>33</td>\n",
       "      <td>54</td>\n",
       "      <td>58</td>\n",
       "      <td>31</td>\n",
       "      <td>male</td>\n",
       "      <td>44.0</td>\n",
       "      <td>48.8</td>\n",
       "    </tr>\n",
       "    <tr>\n",
       "      <th>63</th>\n",
       "      <td>108</td>\n",
       "      <td>0</td>\n",
       "      <td>4</td>\n",
       "      <td>2</td>\n",
       "      <td>1</td>\n",
       "      <td>1</td>\n",
       "      <td>34</td>\n",
       "      <td>33</td>\n",
       "      <td>41</td>\n",
       "      <td>36</td>\n",
       "      <td>36</td>\n",
       "      <td>male</td>\n",
       "      <td>36.0</td>\n",
       "      <td>36.8</td>\n",
       "    </tr>\n",
       "    <tr>\n",
       "      <th>15</th>\n",
       "      <td>115</td>\n",
       "      <td>0</td>\n",
       "      <td>4</td>\n",
       "      <td>1</td>\n",
       "      <td>1</td>\n",
       "      <td>1</td>\n",
       "      <td>42</td>\n",
       "      <td>49</td>\n",
       "      <td>43</td>\n",
       "      <td>50</td>\n",
       "      <td>56</td>\n",
       "      <td>male</td>\n",
       "      <td>48.0</td>\n",
       "      <td>46.8</td>\n",
       "    </tr>\n",
       "    <tr>\n",
       "      <th>77</th>\n",
       "      <td>123</td>\n",
       "      <td>0</td>\n",
       "      <td>4</td>\n",
       "      <td>3</td>\n",
       "      <td>1</td>\n",
       "      <td>1</td>\n",
       "      <td>68</td>\n",
       "      <td>59</td>\n",
       "      <td>56</td>\n",
       "      <td>63</td>\n",
       "      <td>66</td>\n",
       "      <td>male</td>\n",
       "      <td>62.4</td>\n",
       "      <td>61.8</td>\n",
       "    </tr>\n",
       "    <tr>\n",
       "      <th>30</th>\n",
       "      <td>126</td>\n",
       "      <td>0</td>\n",
       "      <td>4</td>\n",
       "      <td>2</td>\n",
       "      <td>1</td>\n",
       "      <td>1</td>\n",
       "      <td>42</td>\n",
       "      <td>31</td>\n",
       "      <td>57</td>\n",
       "      <td>47</td>\n",
       "      <td>51</td>\n",
       "      <td>male</td>\n",
       "      <td>45.6</td>\n",
       "      <td>47.8</td>\n",
       "    </tr>\n",
       "    <tr>\n",
       "      <th>62</th>\n",
       "      <td>134</td>\n",
       "      <td>0</td>\n",
       "      <td>4</td>\n",
       "      <td>1</td>\n",
       "      <td>1</td>\n",
       "      <td>1</td>\n",
       "      <td>44</td>\n",
       "      <td>44</td>\n",
       "      <td>39</td>\n",
       "      <td>34</td>\n",
       "      <td>46</td>\n",
       "      <td>male</td>\n",
       "      <td>41.4</td>\n",
       "      <td>39.7</td>\n",
       "    </tr>\n",
       "    <tr>\n",
       "      <th>35</th>\n",
       "      <td>144</td>\n",
       "      <td>0</td>\n",
       "      <td>4</td>\n",
       "      <td>3</td>\n",
       "      <td>1</td>\n",
       "      <td>1</td>\n",
       "      <td>60</td>\n",
       "      <td>65</td>\n",
       "      <td>58</td>\n",
       "      <td>61</td>\n",
       "      <td>66</td>\n",
       "      <td>male</td>\n",
       "      <td>62.0</td>\n",
       "      <td>60.8</td>\n",
       "    </tr>\n",
       "    <tr>\n",
       "      <th>91</th>\n",
       "      <td>149</td>\n",
       "      <td>0</td>\n",
       "      <td>4</td>\n",
       "      <td>1</td>\n",
       "      <td>1</td>\n",
       "      <td>1</td>\n",
       "      <td>63</td>\n",
       "      <td>49</td>\n",
       "      <td>49</td>\n",
       "      <td>66</td>\n",
       "      <td>46</td>\n",
       "      <td>male</td>\n",
       "      <td>54.6</td>\n",
       "      <td>56.6</td>\n",
       "    </tr>\n",
       "    <tr>\n",
       "      <th>70</th>\n",
       "      <td>155</td>\n",
       "      <td>0</td>\n",
       "      <td>4</td>\n",
       "      <td>2</td>\n",
       "      <td>1</td>\n",
       "      <td>1</td>\n",
       "      <td>44</td>\n",
       "      <td>44</td>\n",
       "      <td>46</td>\n",
       "      <td>39</td>\n",
       "      <td>51</td>\n",
       "      <td>male</td>\n",
       "      <td>44.8</td>\n",
       "      <td>43.8</td>\n",
       "    </tr>\n",
       "    <tr>\n",
       "      <th>73</th>\n",
       "      <td>157</td>\n",
       "      <td>0</td>\n",
       "      <td>4</td>\n",
       "      <td>2</td>\n",
       "      <td>1</td>\n",
       "      <td>1</td>\n",
       "      <td>68</td>\n",
       "      <td>59</td>\n",
       "      <td>58</td>\n",
       "      <td>74</td>\n",
       "      <td>66</td>\n",
       "      <td>male</td>\n",
       "      <td>65.0</td>\n",
       "      <td>65.7</td>\n",
       "    </tr>\n",
       "    <tr>\n",
       "      <th>20</th>\n",
       "      <td>167</td>\n",
       "      <td>0</td>\n",
       "      <td>4</td>\n",
       "      <td>2</td>\n",
       "      <td>1</td>\n",
       "      <td>1</td>\n",
       "      <td>63</td>\n",
       "      <td>49</td>\n",
       "      <td>35</td>\n",
       "      <td>66</td>\n",
       "      <td>41</td>\n",
       "      <td>male</td>\n",
       "      <td>50.8</td>\n",
       "      <td>51.9</td>\n",
       "    </tr>\n",
       "    <tr>\n",
       "      <th>45</th>\n",
       "      <td>169</td>\n",
       "      <td>0</td>\n",
       "      <td>4</td>\n",
       "      <td>1</td>\n",
       "      <td>1</td>\n",
       "      <td>1</td>\n",
       "      <td>55</td>\n",
       "      <td>59</td>\n",
       "      <td>63</td>\n",
       "      <td>69</td>\n",
       "      <td>46</td>\n",
       "      <td>male</td>\n",
       "      <td>58.4</td>\n",
       "      <td>61.1</td>\n",
       "    </tr>\n",
       "    <tr>\n",
       "      <th>17</th>\n",
       "      <td>195</td>\n",
       "      <td>0</td>\n",
       "      <td>4</td>\n",
       "      <td>2</td>\n",
       "      <td>2</td>\n",
       "      <td>1</td>\n",
       "      <td>57</td>\n",
       "      <td>57</td>\n",
       "      <td>60</td>\n",
       "      <td>58</td>\n",
       "      <td>56</td>\n",
       "      <td>male</td>\n",
       "      <td>57.6</td>\n",
       "      <td>58.1</td>\n",
       "    </tr>\n",
       "    <tr>\n",
       "      <th>83</th>\n",
       "      <td>3</td>\n",
       "      <td>0</td>\n",
       "      <td>1</td>\n",
       "      <td>1</td>\n",
       "      <td>1</td>\n",
       "      <td>2</td>\n",
       "      <td>63</td>\n",
       "      <td>65</td>\n",
       "      <td>48</td>\n",
       "      <td>63</td>\n",
       "      <td>56</td>\n",
       "      <td>male</td>\n",
       "      <td>59.0</td>\n",
       "      <td>58.0</td>\n",
       "    </tr>\n",
       "    <tr>\n",
       "      <th>75</th>\n",
       "      <td>5</td>\n",
       "      <td>0</td>\n",
       "      <td>1</td>\n",
       "      <td>1</td>\n",
       "      <td>1</td>\n",
       "      <td>2</td>\n",
       "      <td>47</td>\n",
       "      <td>40</td>\n",
       "      <td>43</td>\n",
       "      <td>45</td>\n",
       "      <td>31</td>\n",
       "      <td>male</td>\n",
       "      <td>41.2</td>\n",
       "      <td>42.9</td>\n",
       "    </tr>\n",
       "    <tr>\n",
       "      <th>49</th>\n",
       "      <td>7</td>\n",
       "      <td>0</td>\n",
       "      <td>1</td>\n",
       "      <td>2</td>\n",
       "      <td>1</td>\n",
       "      <td>2</td>\n",
       "      <td>57</td>\n",
       "      <td>54</td>\n",
       "      <td>59</td>\n",
       "      <td>47</td>\n",
       "      <td>51</td>\n",
       "      <td>male</td>\n",
       "      <td>53.6</td>\n",
       "      <td>53.7</td>\n",
       "    </tr>\n",
       "    <tr>\n",
       "      <th>7</th>\n",
       "      <td>11</td>\n",
       "      <td>0</td>\n",
       "      <td>1</td>\n",
       "      <td>2</td>\n",
       "      <td>1</td>\n",
       "      <td>2</td>\n",
       "      <td>34</td>\n",
       "      <td>46</td>\n",
       "      <td>45</td>\n",
       "      <td>39</td>\n",
       "      <td>36</td>\n",
       "      <td>male</td>\n",
       "      <td>40.0</td>\n",
       "      <td>40.2</td>\n",
       "    </tr>\n",
       "    <tr>\n",
       "      <th>79</th>\n",
       "      <td>14</td>\n",
       "      <td>0</td>\n",
       "      <td>1</td>\n",
       "      <td>3</td>\n",
       "      <td>1</td>\n",
       "      <td>2</td>\n",
       "      <td>47</td>\n",
       "      <td>41</td>\n",
       "      <td>54</td>\n",
       "      <td>42</td>\n",
       "      <td>56</td>\n",
       "      <td>male</td>\n",
       "      <td>48.0</td>\n",
       "      <td>47.9</td>\n",
       "    </tr>\n",
       "    <tr>\n",
       "      <th>23</th>\n",
       "      <td>20</td>\n",
       "      <td>0</td>\n",
       "      <td>1</td>\n",
       "      <td>3</td>\n",
       "      <td>1</td>\n",
       "      <td>2</td>\n",
       "      <td>60</td>\n",
       "      <td>52</td>\n",
       "      <td>57</td>\n",
       "      <td>61</td>\n",
       "      <td>61</td>\n",
       "      <td>male</td>\n",
       "      <td>58.2</td>\n",
       "      <td>58.7</td>\n",
       "    </tr>\n",
       "    <tr>\n",
       "      <th>90</th>\n",
       "      <td>24</td>\n",
       "      <td>0</td>\n",
       "      <td>2</td>\n",
       "      <td>2</td>\n",
       "      <td>1</td>\n",
       "      <td>2</td>\n",
       "      <td>52</td>\n",
       "      <td>62</td>\n",
       "      <td>66</td>\n",
       "      <td>47</td>\n",
       "      <td>46</td>\n",
       "      <td>male</td>\n",
       "      <td>54.6</td>\n",
       "      <td>55.1</td>\n",
       "    </tr>\n",
       "    <tr>\n",
       "      <th>50</th>\n",
       "      <td>27</td>\n",
       "      <td>0</td>\n",
       "      <td>2</td>\n",
       "      <td>2</td>\n",
       "      <td>1</td>\n",
       "      <td>2</td>\n",
       "      <td>53</td>\n",
       "      <td>61</td>\n",
       "      <td>61</td>\n",
       "      <td>57</td>\n",
       "      <td>56</td>\n",
       "      <td>male</td>\n",
       "      <td>57.6</td>\n",
       "      <td>57.7</td>\n",
       "    </tr>\n",
       "    <tr>\n",
       "      <th>14</th>\n",
       "      <td>38</td>\n",
       "      <td>0</td>\n",
       "      <td>3</td>\n",
       "      <td>1</td>\n",
       "      <td>1</td>\n",
       "      <td>2</td>\n",
       "      <td>45</td>\n",
       "      <td>57</td>\n",
       "      <td>50</td>\n",
       "      <td>31</td>\n",
       "      <td>56</td>\n",
       "      <td>male</td>\n",
       "      <td>47.8</td>\n",
       "      <td>44.6</td>\n",
       "    </tr>\n",
       "    <tr>\n",
       "      <th>...</th>\n",
       "      <td>...</td>\n",
       "      <td>...</td>\n",
       "      <td>...</td>\n",
       "      <td>...</td>\n",
       "      <td>...</td>\n",
       "      <td>...</td>\n",
       "      <td>...</td>\n",
       "      <td>...</td>\n",
       "      <td>...</td>\n",
       "      <td>...</td>\n",
       "      <td>...</td>\n",
       "      <td>...</td>\n",
       "      <td>...</td>\n",
       "      <td>...</td>\n",
       "    </tr>\n",
       "    <tr>\n",
       "      <th>181</th>\n",
       "      <td>193</td>\n",
       "      <td>1</td>\n",
       "      <td>4</td>\n",
       "      <td>2</td>\n",
       "      <td>2</td>\n",
       "      <td>2</td>\n",
       "      <td>44</td>\n",
       "      <td>49</td>\n",
       "      <td>48</td>\n",
       "      <td>39</td>\n",
       "      <td>51</td>\n",
       "      <td>female</td>\n",
       "      <td>46.2</td>\n",
       "      <td>44.9</td>\n",
       "    </tr>\n",
       "    <tr>\n",
       "      <th>99</th>\n",
       "      <td>194</td>\n",
       "      <td>1</td>\n",
       "      <td>4</td>\n",
       "      <td>3</td>\n",
       "      <td>2</td>\n",
       "      <td>2</td>\n",
       "      <td>63</td>\n",
       "      <td>63</td>\n",
       "      <td>69</td>\n",
       "      <td>61</td>\n",
       "      <td>61</td>\n",
       "      <td>female</td>\n",
       "      <td>63.4</td>\n",
       "      <td>64.0</td>\n",
       "    </tr>\n",
       "    <tr>\n",
       "      <th>162</th>\n",
       "      <td>198</td>\n",
       "      <td>1</td>\n",
       "      <td>4</td>\n",
       "      <td>3</td>\n",
       "      <td>2</td>\n",
       "      <td>2</td>\n",
       "      <td>47</td>\n",
       "      <td>61</td>\n",
       "      <td>51</td>\n",
       "      <td>63</td>\n",
       "      <td>31</td>\n",
       "      <td>female</td>\n",
       "      <td>50.6</td>\n",
       "      <td>52.8</td>\n",
       "    </tr>\n",
       "    <tr>\n",
       "      <th>98</th>\n",
       "      <td>1</td>\n",
       "      <td>1</td>\n",
       "      <td>1</td>\n",
       "      <td>1</td>\n",
       "      <td>1</td>\n",
       "      <td>3</td>\n",
       "      <td>34</td>\n",
       "      <td>44</td>\n",
       "      <td>40</td>\n",
       "      <td>39</td>\n",
       "      <td>41</td>\n",
       "      <td>female</td>\n",
       "      <td>39.6</td>\n",
       "      <td>39.0</td>\n",
       "    </tr>\n",
       "    <tr>\n",
       "      <th>138</th>\n",
       "      <td>2</td>\n",
       "      <td>1</td>\n",
       "      <td>1</td>\n",
       "      <td>2</td>\n",
       "      <td>1</td>\n",
       "      <td>3</td>\n",
       "      <td>39</td>\n",
       "      <td>41</td>\n",
       "      <td>33</td>\n",
       "      <td>42</td>\n",
       "      <td>41</td>\n",
       "      <td>female</td>\n",
       "      <td>39.2</td>\n",
       "      <td>38.5</td>\n",
       "    </tr>\n",
       "    <tr>\n",
       "      <th>171</th>\n",
       "      <td>13</td>\n",
       "      <td>1</td>\n",
       "      <td>1</td>\n",
       "      <td>2</td>\n",
       "      <td>1</td>\n",
       "      <td>3</td>\n",
       "      <td>47</td>\n",
       "      <td>46</td>\n",
       "      <td>39</td>\n",
       "      <td>47</td>\n",
       "      <td>61</td>\n",
       "      <td>female</td>\n",
       "      <td>48.0</td>\n",
       "      <td>45.9</td>\n",
       "    </tr>\n",
       "    <tr>\n",
       "      <th>184</th>\n",
       "      <td>32</td>\n",
       "      <td>1</td>\n",
       "      <td>2</td>\n",
       "      <td>3</td>\n",
       "      <td>1</td>\n",
       "      <td>3</td>\n",
       "      <td>50</td>\n",
       "      <td>67</td>\n",
       "      <td>66</td>\n",
       "      <td>66</td>\n",
       "      <td>56</td>\n",
       "      <td>female</td>\n",
       "      <td>61.0</td>\n",
       "      <td>61.9</td>\n",
       "    </tr>\n",
       "    <tr>\n",
       "      <th>119</th>\n",
       "      <td>37</td>\n",
       "      <td>1</td>\n",
       "      <td>3</td>\n",
       "      <td>1</td>\n",
       "      <td>1</td>\n",
       "      <td>3</td>\n",
       "      <td>41</td>\n",
       "      <td>47</td>\n",
       "      <td>40</td>\n",
       "      <td>39</td>\n",
       "      <td>51</td>\n",
       "      <td>female</td>\n",
       "      <td>43.6</td>\n",
       "      <td>41.7</td>\n",
       "    </tr>\n",
       "    <tr>\n",
       "      <th>137</th>\n",
       "      <td>42</td>\n",
       "      <td>1</td>\n",
       "      <td>3</td>\n",
       "      <td>2</td>\n",
       "      <td>1</td>\n",
       "      <td>3</td>\n",
       "      <td>46</td>\n",
       "      <td>52</td>\n",
       "      <td>55</td>\n",
       "      <td>44</td>\n",
       "      <td>56</td>\n",
       "      <td>female</td>\n",
       "      <td>50.6</td>\n",
       "      <td>49.7</td>\n",
       "    </tr>\n",
       "    <tr>\n",
       "      <th>124</th>\n",
       "      <td>44</td>\n",
       "      <td>1</td>\n",
       "      <td>3</td>\n",
       "      <td>1</td>\n",
       "      <td>1</td>\n",
       "      <td>3</td>\n",
       "      <td>47</td>\n",
       "      <td>62</td>\n",
       "      <td>45</td>\n",
       "      <td>34</td>\n",
       "      <td>46</td>\n",
       "      <td>female</td>\n",
       "      <td>46.8</td>\n",
       "      <td>43.9</td>\n",
       "    </tr>\n",
       "    <tr>\n",
       "      <th>129</th>\n",
       "      <td>45</td>\n",
       "      <td>1</td>\n",
       "      <td>3</td>\n",
       "      <td>1</td>\n",
       "      <td>1</td>\n",
       "      <td>3</td>\n",
       "      <td>34</td>\n",
       "      <td>35</td>\n",
       "      <td>41</td>\n",
       "      <td>29</td>\n",
       "      <td>26</td>\n",
       "      <td>female</td>\n",
       "      <td>33.0</td>\n",
       "      <td>33.9</td>\n",
       "    </tr>\n",
       "    <tr>\n",
       "      <th>178</th>\n",
       "      <td>64</td>\n",
       "      <td>1</td>\n",
       "      <td>4</td>\n",
       "      <td>3</td>\n",
       "      <td>1</td>\n",
       "      <td>3</td>\n",
       "      <td>50</td>\n",
       "      <td>52</td>\n",
       "      <td>45</td>\n",
       "      <td>58</td>\n",
       "      <td>36</td>\n",
       "      <td>female</td>\n",
       "      <td>48.2</td>\n",
       "      <td>49.7</td>\n",
       "    </tr>\n",
       "    <tr>\n",
       "      <th>132</th>\n",
       "      <td>66</td>\n",
       "      <td>1</td>\n",
       "      <td>4</td>\n",
       "      <td>2</td>\n",
       "      <td>1</td>\n",
       "      <td>3</td>\n",
       "      <td>68</td>\n",
       "      <td>62</td>\n",
       "      <td>56</td>\n",
       "      <td>50</td>\n",
       "      <td>51</td>\n",
       "      <td>female</td>\n",
       "      <td>57.4</td>\n",
       "      <td>56.7</td>\n",
       "    </tr>\n",
       "    <tr>\n",
       "      <th>165</th>\n",
       "      <td>69</td>\n",
       "      <td>1</td>\n",
       "      <td>4</td>\n",
       "      <td>1</td>\n",
       "      <td>1</td>\n",
       "      <td>3</td>\n",
       "      <td>44</td>\n",
       "      <td>44</td>\n",
       "      <td>40</td>\n",
       "      <td>40</td>\n",
       "      <td>31</td>\n",
       "      <td>female</td>\n",
       "      <td>39.8</td>\n",
       "      <td>40.3</td>\n",
       "    </tr>\n",
       "    <tr>\n",
       "      <th>133</th>\n",
       "      <td>72</td>\n",
       "      <td>1</td>\n",
       "      <td>4</td>\n",
       "      <td>2</td>\n",
       "      <td>1</td>\n",
       "      <td>3</td>\n",
       "      <td>42</td>\n",
       "      <td>54</td>\n",
       "      <td>47</td>\n",
       "      <td>47</td>\n",
       "      <td>46</td>\n",
       "      <td>female</td>\n",
       "      <td>47.2</td>\n",
       "      <td>46.6</td>\n",
       "    </tr>\n",
       "    <tr>\n",
       "      <th>146</th>\n",
       "      <td>83</td>\n",
       "      <td>1</td>\n",
       "      <td>4</td>\n",
       "      <td>2</td>\n",
       "      <td>1</td>\n",
       "      <td>3</td>\n",
       "      <td>50</td>\n",
       "      <td>62</td>\n",
       "      <td>41</td>\n",
       "      <td>55</td>\n",
       "      <td>31</td>\n",
       "      <td>female</td>\n",
       "      <td>47.8</td>\n",
       "      <td>48.1</td>\n",
       "    </tr>\n",
       "    <tr>\n",
       "      <th>107</th>\n",
       "      <td>89</td>\n",
       "      <td>1</td>\n",
       "      <td>4</td>\n",
       "      <td>1</td>\n",
       "      <td>1</td>\n",
       "      <td>3</td>\n",
       "      <td>35</td>\n",
       "      <td>35</td>\n",
       "      <td>40</td>\n",
       "      <td>51</td>\n",
       "      <td>33</td>\n",
       "      <td>female</td>\n",
       "      <td>38.8</td>\n",
       "      <td>41.1</td>\n",
       "    </tr>\n",
       "    <tr>\n",
       "      <th>128</th>\n",
       "      <td>91</td>\n",
       "      <td>1</td>\n",
       "      <td>4</td>\n",
       "      <td>3</td>\n",
       "      <td>1</td>\n",
       "      <td>3</td>\n",
       "      <td>50</td>\n",
       "      <td>49</td>\n",
       "      <td>56</td>\n",
       "      <td>47</td>\n",
       "      <td>46</td>\n",
       "      <td>female</td>\n",
       "      <td>49.6</td>\n",
       "      <td>50.4</td>\n",
       "    </tr>\n",
       "    <tr>\n",
       "      <th>169</th>\n",
       "      <td>98</td>\n",
       "      <td>1</td>\n",
       "      <td>4</td>\n",
       "      <td>1</td>\n",
       "      <td>1</td>\n",
       "      <td>3</td>\n",
       "      <td>57</td>\n",
       "      <td>60</td>\n",
       "      <td>51</td>\n",
       "      <td>53</td>\n",
       "      <td>37</td>\n",
       "      <td>female</td>\n",
       "      <td>51.6</td>\n",
       "      <td>52.3</td>\n",
       "    </tr>\n",
       "    <tr>\n",
       "      <th>115</th>\n",
       "      <td>106</td>\n",
       "      <td>1</td>\n",
       "      <td>4</td>\n",
       "      <td>2</td>\n",
       "      <td>1</td>\n",
       "      <td>3</td>\n",
       "      <td>36</td>\n",
       "      <td>44</td>\n",
       "      <td>37</td>\n",
       "      <td>42</td>\n",
       "      <td>41</td>\n",
       "      <td>female</td>\n",
       "      <td>40.0</td>\n",
       "      <td>39.4</td>\n",
       "    </tr>\n",
       "    <tr>\n",
       "      <th>156</th>\n",
       "      <td>110</td>\n",
       "      <td>1</td>\n",
       "      <td>4</td>\n",
       "      <td>2</td>\n",
       "      <td>1</td>\n",
       "      <td>3</td>\n",
       "      <td>52</td>\n",
       "      <td>55</td>\n",
       "      <td>50</td>\n",
       "      <td>54</td>\n",
       "      <td>61</td>\n",
       "      <td>female</td>\n",
       "      <td>54.4</td>\n",
       "      <td>53.2</td>\n",
       "    </tr>\n",
       "    <tr>\n",
       "      <th>1</th>\n",
       "      <td>121</td>\n",
       "      <td>1</td>\n",
       "      <td>4</td>\n",
       "      <td>2</td>\n",
       "      <td>1</td>\n",
       "      <td>3</td>\n",
       "      <td>68</td>\n",
       "      <td>59</td>\n",
       "      <td>53</td>\n",
       "      <td>63</td>\n",
       "      <td>61</td>\n",
       "      <td>female</td>\n",
       "      <td>60.8</td>\n",
       "      <td>60.4</td>\n",
       "    </tr>\n",
       "    <tr>\n",
       "      <th>190</th>\n",
       "      <td>124</td>\n",
       "      <td>1</td>\n",
       "      <td>4</td>\n",
       "      <td>1</td>\n",
       "      <td>1</td>\n",
       "      <td>3</td>\n",
       "      <td>42</td>\n",
       "      <td>54</td>\n",
       "      <td>41</td>\n",
       "      <td>42</td>\n",
       "      <td>41</td>\n",
       "      <td>female</td>\n",
       "      <td>44.0</td>\n",
       "      <td>42.8</td>\n",
       "    </tr>\n",
       "    <tr>\n",
       "      <th>152</th>\n",
       "      <td>138</td>\n",
       "      <td>1</td>\n",
       "      <td>4</td>\n",
       "      <td>2</td>\n",
       "      <td>1</td>\n",
       "      <td>3</td>\n",
       "      <td>43</td>\n",
       "      <td>57</td>\n",
       "      <td>40</td>\n",
       "      <td>50</td>\n",
       "      <td>51</td>\n",
       "      <td>female</td>\n",
       "      <td>48.2</td>\n",
       "      <td>46.4</td>\n",
       "    </tr>\n",
       "    <tr>\n",
       "      <th>142</th>\n",
       "      <td>142</td>\n",
       "      <td>1</td>\n",
       "      <td>4</td>\n",
       "      <td>2</td>\n",
       "      <td>1</td>\n",
       "      <td>3</td>\n",
       "      <td>47</td>\n",
       "      <td>42</td>\n",
       "      <td>52</td>\n",
       "      <td>39</td>\n",
       "      <td>51</td>\n",
       "      <td>female</td>\n",
       "      <td>46.2</td>\n",
       "      <td>46.0</td>\n",
       "    </tr>\n",
       "    <tr>\n",
       "      <th>196</th>\n",
       "      <td>145</td>\n",
       "      <td>1</td>\n",
       "      <td>4</td>\n",
       "      <td>2</td>\n",
       "      <td>1</td>\n",
       "      <td>3</td>\n",
       "      <td>42</td>\n",
       "      <td>46</td>\n",
       "      <td>38</td>\n",
       "      <td>36</td>\n",
       "      <td>46</td>\n",
       "      <td>female</td>\n",
       "      <td>41.6</td>\n",
       "      <td>39.8</td>\n",
       "    </tr>\n",
       "    <tr>\n",
       "      <th>157</th>\n",
       "      <td>148</td>\n",
       "      <td>1</td>\n",
       "      <td>4</td>\n",
       "      <td>2</td>\n",
       "      <td>1</td>\n",
       "      <td>3</td>\n",
       "      <td>42</td>\n",
       "      <td>57</td>\n",
       "      <td>51</td>\n",
       "      <td>47</td>\n",
       "      <td>61</td>\n",
       "      <td>female</td>\n",
       "      <td>51.6</td>\n",
       "      <td>49.6</td>\n",
       "    </tr>\n",
       "    <tr>\n",
       "      <th>123</th>\n",
       "      <td>151</td>\n",
       "      <td>1</td>\n",
       "      <td>4</td>\n",
       "      <td>2</td>\n",
       "      <td>1</td>\n",
       "      <td>3</td>\n",
       "      <td>47</td>\n",
       "      <td>46</td>\n",
       "      <td>52</td>\n",
       "      <td>48</td>\n",
       "      <td>46</td>\n",
       "      <td>female</td>\n",
       "      <td>47.8</td>\n",
       "      <td>48.6</td>\n",
       "    </tr>\n",
       "    <tr>\n",
       "      <th>110</th>\n",
       "      <td>162</td>\n",
       "      <td>1</td>\n",
       "      <td>4</td>\n",
       "      <td>2</td>\n",
       "      <td>1</td>\n",
       "      <td>3</td>\n",
       "      <td>57</td>\n",
       "      <td>52</td>\n",
       "      <td>40</td>\n",
       "      <td>61</td>\n",
       "      <td>56</td>\n",
       "      <td>female</td>\n",
       "      <td>53.2</td>\n",
       "      <td>52.5</td>\n",
       "    </tr>\n",
       "    <tr>\n",
       "      <th>192</th>\n",
       "      <td>184</td>\n",
       "      <td>1</td>\n",
       "      <td>4</td>\n",
       "      <td>2</td>\n",
       "      <td>2</td>\n",
       "      <td>3</td>\n",
       "      <td>50</td>\n",
       "      <td>52</td>\n",
       "      <td>53</td>\n",
       "      <td>55</td>\n",
       "      <td>56</td>\n",
       "      <td>female</td>\n",
       "      <td>53.2</td>\n",
       "      <td>53.2</td>\n",
       "    </tr>\n",
       "  </tbody>\n",
       "</table>\n",
       "<p>200 rows × 14 columns</p>\n",
       "</div>"
      ],
      "text/plain": [
       "      id  female  race  ses  schtyp  prog  read  write  math  science  socst  \\\n",
       "52    21       0     1    2       1     1    44     44    61       50     46   \n",
       "29    29       0     2    1       1     1    52     44    49       55     41   \n",
       "43    40       0     3    1       1     1    42     41    43       50     41   \n",
       "6     50       0     3    2       1     1    50     59    42       53     61   \n",
       "44    62       0     4    3       1     1    65     65    48       63     66   \n",
       "0     70       0     4    1       1     1    57     52    41       47     57   \n",
       "8     84       0     4    2       1     1    63     57    54       58     51   \n",
       "19    85       0     4    2       1     1    55     39    57       53     46   \n",
       "2     86       0     4    3       1     1    44     33    54       58     31   \n",
       "63   108       0     4    2       1     1    34     33    41       36     36   \n",
       "15   115       0     4    1       1     1    42     49    43       50     56   \n",
       "77   123       0     4    3       1     1    68     59    56       63     66   \n",
       "30   126       0     4    2       1     1    42     31    57       47     51   \n",
       "62   134       0     4    1       1     1    44     44    39       34     46   \n",
       "35   144       0     4    3       1     1    60     65    58       61     66   \n",
       "91   149       0     4    1       1     1    63     49    49       66     46   \n",
       "70   155       0     4    2       1     1    44     44    46       39     51   \n",
       "73   157       0     4    2       1     1    68     59    58       74     66   \n",
       "20   167       0     4    2       1     1    63     49    35       66     41   \n",
       "45   169       0     4    1       1     1    55     59    63       69     46   \n",
       "17   195       0     4    2       2     1    57     57    60       58     56   \n",
       "83     3       0     1    1       1     2    63     65    48       63     56   \n",
       "75     5       0     1    1       1     2    47     40    43       45     31   \n",
       "49     7       0     1    2       1     2    57     54    59       47     51   \n",
       "7     11       0     1    2       1     2    34     46    45       39     36   \n",
       "79    14       0     1    3       1     2    47     41    54       42     56   \n",
       "23    20       0     1    3       1     2    60     52    57       61     61   \n",
       "90    24       0     2    2       1     2    52     62    66       47     46   \n",
       "50    27       0     2    2       1     2    53     61    61       57     56   \n",
       "14    38       0     3    1       1     2    45     57    50       31     56   \n",
       "..   ...     ...   ...  ...     ...   ...   ...    ...   ...      ...    ...   \n",
       "181  193       1     4    2       2     2    44     49    48       39     51   \n",
       "99   194       1     4    3       2     2    63     63    69       61     61   \n",
       "162  198       1     4    3       2     2    47     61    51       63     31   \n",
       "98     1       1     1    1       1     3    34     44    40       39     41   \n",
       "138    2       1     1    2       1     3    39     41    33       42     41   \n",
       "171   13       1     1    2       1     3    47     46    39       47     61   \n",
       "184   32       1     2    3       1     3    50     67    66       66     56   \n",
       "119   37       1     3    1       1     3    41     47    40       39     51   \n",
       "137   42       1     3    2       1     3    46     52    55       44     56   \n",
       "124   44       1     3    1       1     3    47     62    45       34     46   \n",
       "129   45       1     3    1       1     3    34     35    41       29     26   \n",
       "178   64       1     4    3       1     3    50     52    45       58     36   \n",
       "132   66       1     4    2       1     3    68     62    56       50     51   \n",
       "165   69       1     4    1       1     3    44     44    40       40     31   \n",
       "133   72       1     4    2       1     3    42     54    47       47     46   \n",
       "146   83       1     4    2       1     3    50     62    41       55     31   \n",
       "107   89       1     4    1       1     3    35     35    40       51     33   \n",
       "128   91       1     4    3       1     3    50     49    56       47     46   \n",
       "169   98       1     4    1       1     3    57     60    51       53     37   \n",
       "115  106       1     4    2       1     3    36     44    37       42     41   \n",
       "156  110       1     4    2       1     3    52     55    50       54     61   \n",
       "1    121       1     4    2       1     3    68     59    53       63     61   \n",
       "190  124       1     4    1       1     3    42     54    41       42     41   \n",
       "152  138       1     4    2       1     3    43     57    40       50     51   \n",
       "142  142       1     4    2       1     3    47     42    52       39     51   \n",
       "196  145       1     4    2       1     3    42     46    38       36     46   \n",
       "157  148       1     4    2       1     3    42     57    51       47     61   \n",
       "123  151       1     4    2       1     3    47     46    52       48     46   \n",
       "110  162       1     4    2       1     3    57     52    40       61     56   \n",
       "192  184       1     4    2       2     3    50     52    53       55     56   \n",
       "\n",
       "     gender  average  weighted_average  \n",
       "52     male     49.0              51.1  \n",
       "29     male     48.2              50.1  \n",
       "43     male     43.4              44.5  \n",
       "6      male     53.0              50.5  \n",
       "44     male     61.4              59.4  \n",
       "0      male     50.8              48.7  \n",
       "8      male     56.6              57.0  \n",
       "19     male     50.0              52.5  \n",
       "2      male     44.0              48.8  \n",
       "63     male     36.0              36.8  \n",
       "15     male     48.0              46.8  \n",
       "77     male     62.4              61.8  \n",
       "30     male     45.6              47.8  \n",
       "62     male     41.4              39.7  \n",
       "35     male     62.0              60.8  \n",
       "91     male     54.6              56.6  \n",
       "70     male     44.8              43.8  \n",
       "73     male     65.0              65.7  \n",
       "20     male     50.8              51.9  \n",
       "45     male     58.4              61.1  \n",
       "17     male     57.6              58.1  \n",
       "83     male     59.0              58.0  \n",
       "75     male     41.2              42.9  \n",
       "49     male     53.6              53.7  \n",
       "7      male     40.0              40.2  \n",
       "79     male     48.0              47.9  \n",
       "23     male     58.2              58.7  \n",
       "90     male     54.6              55.1  \n",
       "50     male     57.6              57.7  \n",
       "14     male     47.8              44.6  \n",
       "..      ...      ...               ...  \n",
       "181  female     46.2              44.9  \n",
       "99   female     63.4              64.0  \n",
       "162  female     50.6              52.8  \n",
       "98   female     39.6              39.0  \n",
       "138  female     39.2              38.5  \n",
       "171  female     48.0              45.9  \n",
       "184  female     61.0              61.9  \n",
       "119  female     43.6              41.7  \n",
       "137  female     50.6              49.7  \n",
       "124  female     46.8              43.9  \n",
       "129  female     33.0              33.9  \n",
       "178  female     48.2              49.7  \n",
       "132  female     57.4              56.7  \n",
       "165  female     39.8              40.3  \n",
       "133  female     47.2              46.6  \n",
       "146  female     47.8              48.1  \n",
       "107  female     38.8              41.1  \n",
       "128  female     49.6              50.4  \n",
       "169  female     51.6              52.3  \n",
       "115  female     40.0              39.4  \n",
       "156  female     54.4              53.2  \n",
       "1    female     60.8              60.4  \n",
       "190  female     44.0              42.8  \n",
       "152  female     48.2              46.4  \n",
       "142  female     46.2              46.0  \n",
       "196  female     41.6              39.8  \n",
       "157  female     51.6              49.6  \n",
       "123  female     47.8              48.6  \n",
       "110  female     53.2              52.5  \n",
       "192  female     53.2              53.2  \n",
       "\n",
       "[200 rows x 14 columns]"
      ]
     },
     "execution_count": 183,
     "metadata": {},
     "output_type": "execute_result"
    }
   ],
   "source": [
    "df.sort_values(['female', 'prog'])"
   ]
  },
  {
   "cell_type": "code",
   "execution_count": 186,
   "metadata": {
    "collapsed": false,
    "deletable": true,
    "editable": true
   },
   "outputs": [
    {
     "data": {
      "text/html": [
       "<div>\n",
       "<table border=\"1\" class=\"dataframe\">\n",
       "  <thead>\n",
       "    <tr style=\"text-align: right;\">\n",
       "      <th></th>\n",
       "      <th>id</th>\n",
       "      <th>female</th>\n",
       "      <th>race</th>\n",
       "      <th>ses</th>\n",
       "      <th>schtyp</th>\n",
       "      <th>prog</th>\n",
       "      <th>read</th>\n",
       "      <th>write</th>\n",
       "      <th>math</th>\n",
       "      <th>science</th>\n",
       "      <th>socst</th>\n",
       "      <th>gender</th>\n",
       "      <th>average</th>\n",
       "      <th>weighted_average</th>\n",
       "    </tr>\n",
       "  </thead>\n",
       "  <tbody>\n",
       "    <tr>\n",
       "      <th>98</th>\n",
       "      <td>1</td>\n",
       "      <td>1</td>\n",
       "      <td>1</td>\n",
       "      <td>1</td>\n",
       "      <td>1</td>\n",
       "      <td>3</td>\n",
       "      <td>34</td>\n",
       "      <td>44</td>\n",
       "      <td>40</td>\n",
       "      <td>39</td>\n",
       "      <td>41</td>\n",
       "      <td>female</td>\n",
       "      <td>39.6</td>\n",
       "      <td>39.0</td>\n",
       "    </tr>\n",
       "    <tr>\n",
       "      <th>138</th>\n",
       "      <td>2</td>\n",
       "      <td>1</td>\n",
       "      <td>1</td>\n",
       "      <td>2</td>\n",
       "      <td>1</td>\n",
       "      <td>3</td>\n",
       "      <td>39</td>\n",
       "      <td>41</td>\n",
       "      <td>33</td>\n",
       "      <td>42</td>\n",
       "      <td>41</td>\n",
       "      <td>female</td>\n",
       "      <td>39.2</td>\n",
       "      <td>38.5</td>\n",
       "    </tr>\n",
       "    <tr>\n",
       "      <th>83</th>\n",
       "      <td>3</td>\n",
       "      <td>0</td>\n",
       "      <td>1</td>\n",
       "      <td>1</td>\n",
       "      <td>1</td>\n",
       "      <td>2</td>\n",
       "      <td>63</td>\n",
       "      <td>65</td>\n",
       "      <td>48</td>\n",
       "      <td>63</td>\n",
       "      <td>56</td>\n",
       "      <td>male</td>\n",
       "      <td>59.0</td>\n",
       "      <td>58.0</td>\n",
       "    </tr>\n",
       "    <tr>\n",
       "      <th>111</th>\n",
       "      <td>4</td>\n",
       "      <td>1</td>\n",
       "      <td>1</td>\n",
       "      <td>1</td>\n",
       "      <td>1</td>\n",
       "      <td>2</td>\n",
       "      <td>44</td>\n",
       "      <td>50</td>\n",
       "      <td>41</td>\n",
       "      <td>39</td>\n",
       "      <td>51</td>\n",
       "      <td>female</td>\n",
       "      <td>45.0</td>\n",
       "      <td>42.9</td>\n",
       "    </tr>\n",
       "    <tr>\n",
       "      <th>75</th>\n",
       "      <td>5</td>\n",
       "      <td>0</td>\n",
       "      <td>1</td>\n",
       "      <td>1</td>\n",
       "      <td>1</td>\n",
       "      <td>2</td>\n",
       "      <td>47</td>\n",
       "      <td>40</td>\n",
       "      <td>43</td>\n",
       "      <td>45</td>\n",
       "      <td>31</td>\n",
       "      <td>male</td>\n",
       "      <td>41.2</td>\n",
       "      <td>42.9</td>\n",
       "    </tr>\n",
       "    <tr>\n",
       "      <th>148</th>\n",
       "      <td>6</td>\n",
       "      <td>1</td>\n",
       "      <td>1</td>\n",
       "      <td>1</td>\n",
       "      <td>1</td>\n",
       "      <td>2</td>\n",
       "      <td>47</td>\n",
       "      <td>41</td>\n",
       "      <td>46</td>\n",
       "      <td>40</td>\n",
       "      <td>41</td>\n",
       "      <td>female</td>\n",
       "      <td>43.0</td>\n",
       "      <td>43.4</td>\n",
       "    </tr>\n",
       "    <tr>\n",
       "      <th>49</th>\n",
       "      <td>7</td>\n",
       "      <td>0</td>\n",
       "      <td>1</td>\n",
       "      <td>2</td>\n",
       "      <td>1</td>\n",
       "      <td>2</td>\n",
       "      <td>57</td>\n",
       "      <td>54</td>\n",
       "      <td>59</td>\n",
       "      <td>47</td>\n",
       "      <td>51</td>\n",
       "      <td>male</td>\n",
       "      <td>53.6</td>\n",
       "      <td>53.7</td>\n",
       "    </tr>\n",
       "    <tr>\n",
       "      <th>93</th>\n",
       "      <td>8</td>\n",
       "      <td>1</td>\n",
       "      <td>1</td>\n",
       "      <td>1</td>\n",
       "      <td>1</td>\n",
       "      <td>2</td>\n",
       "      <td>39</td>\n",
       "      <td>44</td>\n",
       "      <td>52</td>\n",
       "      <td>44</td>\n",
       "      <td>48</td>\n",
       "      <td>female</td>\n",
       "      <td>45.4</td>\n",
       "      <td>45.8</td>\n",
       "    </tr>\n",
       "    <tr>\n",
       "      <th>59</th>\n",
       "      <td>9</td>\n",
       "      <td>0</td>\n",
       "      <td>1</td>\n",
       "      <td>2</td>\n",
       "      <td>1</td>\n",
       "      <td>3</td>\n",
       "      <td>48</td>\n",
       "      <td>49</td>\n",
       "      <td>52</td>\n",
       "      <td>44</td>\n",
       "      <td>51</td>\n",
       "      <td>male</td>\n",
       "      <td>48.8</td>\n",
       "      <td>48.4</td>\n",
       "    </tr>\n",
       "    <tr>\n",
       "      <th>153</th>\n",
       "      <td>10</td>\n",
       "      <td>1</td>\n",
       "      <td>1</td>\n",
       "      <td>2</td>\n",
       "      <td>1</td>\n",
       "      <td>1</td>\n",
       "      <td>47</td>\n",
       "      <td>54</td>\n",
       "      <td>49</td>\n",
       "      <td>53</td>\n",
       "      <td>61</td>\n",
       "      <td>female</td>\n",
       "      <td>52.8</td>\n",
       "      <td>51.5</td>\n",
       "    </tr>\n",
       "    <tr>\n",
       "      <th>7</th>\n",
       "      <td>11</td>\n",
       "      <td>0</td>\n",
       "      <td>1</td>\n",
       "      <td>2</td>\n",
       "      <td>1</td>\n",
       "      <td>2</td>\n",
       "      <td>34</td>\n",
       "      <td>46</td>\n",
       "      <td>45</td>\n",
       "      <td>39</td>\n",
       "      <td>36</td>\n",
       "      <td>male</td>\n",
       "      <td>40.0</td>\n",
       "      <td>40.2</td>\n",
       "    </tr>\n",
       "    <tr>\n",
       "      <th>24</th>\n",
       "      <td>12</td>\n",
       "      <td>0</td>\n",
       "      <td>1</td>\n",
       "      <td>2</td>\n",
       "      <td>1</td>\n",
       "      <td>3</td>\n",
       "      <td>37</td>\n",
       "      <td>44</td>\n",
       "      <td>45</td>\n",
       "      <td>39</td>\n",
       "      <td>46</td>\n",
       "      <td>male</td>\n",
       "      <td>42.2</td>\n",
       "      <td>41.6</td>\n",
       "    </tr>\n",
       "    <tr>\n",
       "      <th>171</th>\n",
       "      <td>13</td>\n",
       "      <td>1</td>\n",
       "      <td>1</td>\n",
       "      <td>2</td>\n",
       "      <td>1</td>\n",
       "      <td>3</td>\n",
       "      <td>47</td>\n",
       "      <td>46</td>\n",
       "      <td>39</td>\n",
       "      <td>47</td>\n",
       "      <td>61</td>\n",
       "      <td>female</td>\n",
       "      <td>48.0</td>\n",
       "      <td>45.9</td>\n",
       "    </tr>\n",
       "    <tr>\n",
       "      <th>79</th>\n",
       "      <td>14</td>\n",
       "      <td>0</td>\n",
       "      <td>1</td>\n",
       "      <td>3</td>\n",
       "      <td>1</td>\n",
       "      <td>2</td>\n",
       "      <td>47</td>\n",
       "      <td>41</td>\n",
       "      <td>54</td>\n",
       "      <td>42</td>\n",
       "      <td>56</td>\n",
       "      <td>male</td>\n",
       "      <td>48.0</td>\n",
       "      <td>47.9</td>\n",
       "    </tr>\n",
       "    <tr>\n",
       "      <th>55</th>\n",
       "      <td>15</td>\n",
       "      <td>0</td>\n",
       "      <td>1</td>\n",
       "      <td>3</td>\n",
       "      <td>1</td>\n",
       "      <td>3</td>\n",
       "      <td>39</td>\n",
       "      <td>39</td>\n",
       "      <td>44</td>\n",
       "      <td>26</td>\n",
       "      <td>42</td>\n",
       "      <td>male</td>\n",
       "      <td>38.0</td>\n",
       "      <td>36.9</td>\n",
       "    </tr>\n",
       "    <tr>\n",
       "      <th>38</th>\n",
       "      <td>16</td>\n",
       "      <td>0</td>\n",
       "      <td>1</td>\n",
       "      <td>1</td>\n",
       "      <td>1</td>\n",
       "      <td>3</td>\n",
       "      <td>47</td>\n",
       "      <td>31</td>\n",
       "      <td>44</td>\n",
       "      <td>36</td>\n",
       "      <td>36</td>\n",
       "      <td>male</td>\n",
       "      <td>38.8</td>\n",
       "      <td>40.1</td>\n",
       "    </tr>\n",
       "    <tr>\n",
       "      <th>143</th>\n",
       "      <td>17</td>\n",
       "      <td>1</td>\n",
       "      <td>1</td>\n",
       "      <td>2</td>\n",
       "      <td>1</td>\n",
       "      <td>2</td>\n",
       "      <td>47</td>\n",
       "      <td>57</td>\n",
       "      <td>48</td>\n",
       "      <td>44</td>\n",
       "      <td>41</td>\n",
       "      <td>female</td>\n",
       "      <td>47.4</td>\n",
       "      <td>46.8</td>\n",
       "    </tr>\n",
       "    <tr>\n",
       "      <th>69</th>\n",
       "      <td>18</td>\n",
       "      <td>0</td>\n",
       "      <td>1</td>\n",
       "      <td>2</td>\n",
       "      <td>1</td>\n",
       "      <td>3</td>\n",
       "      <td>50</td>\n",
       "      <td>33</td>\n",
       "      <td>49</td>\n",
       "      <td>44</td>\n",
       "      <td>36</td>\n",
       "      <td>male</td>\n",
       "      <td>42.4</td>\n",
       "      <td>44.8</td>\n",
       "    </tr>\n",
       "    <tr>\n",
       "      <th>140</th>\n",
       "      <td>19</td>\n",
       "      <td>1</td>\n",
       "      <td>1</td>\n",
       "      <td>1</td>\n",
       "      <td>1</td>\n",
       "      <td>1</td>\n",
       "      <td>28</td>\n",
       "      <td>46</td>\n",
       "      <td>43</td>\n",
       "      <td>44</td>\n",
       "      <td>51</td>\n",
       "      <td>female</td>\n",
       "      <td>42.4</td>\n",
       "      <td>41.4</td>\n",
       "    </tr>\n",
       "    <tr>\n",
       "      <th>23</th>\n",
       "      <td>20</td>\n",
       "      <td>0</td>\n",
       "      <td>1</td>\n",
       "      <td>3</td>\n",
       "      <td>1</td>\n",
       "      <td>2</td>\n",
       "      <td>60</td>\n",
       "      <td>52</td>\n",
       "      <td>57</td>\n",
       "      <td>61</td>\n",
       "      <td>61</td>\n",
       "      <td>male</td>\n",
       "      <td>58.2</td>\n",
       "      <td>58.7</td>\n",
       "    </tr>\n",
       "    <tr>\n",
       "      <th>52</th>\n",
       "      <td>21</td>\n",
       "      <td>0</td>\n",
       "      <td>1</td>\n",
       "      <td>2</td>\n",
       "      <td>1</td>\n",
       "      <td>1</td>\n",
       "      <td>44</td>\n",
       "      <td>44</td>\n",
       "      <td>61</td>\n",
       "      <td>50</td>\n",
       "      <td>46</td>\n",
       "      <td>male</td>\n",
       "      <td>49.0</td>\n",
       "      <td>51.1</td>\n",
       "    </tr>\n",
       "    <tr>\n",
       "      <th>57</th>\n",
       "      <td>22</td>\n",
       "      <td>0</td>\n",
       "      <td>1</td>\n",
       "      <td>2</td>\n",
       "      <td>1</td>\n",
       "      <td>3</td>\n",
       "      <td>42</td>\n",
       "      <td>39</td>\n",
       "      <td>39</td>\n",
       "      <td>56</td>\n",
       "      <td>46</td>\n",
       "      <td>male</td>\n",
       "      <td>44.4</td>\n",
       "      <td>45.4</td>\n",
       "    </tr>\n",
       "    <tr>\n",
       "      <th>185</th>\n",
       "      <td>23</td>\n",
       "      <td>1</td>\n",
       "      <td>2</td>\n",
       "      <td>1</td>\n",
       "      <td>1</td>\n",
       "      <td>2</td>\n",
       "      <td>65</td>\n",
       "      <td>65</td>\n",
       "      <td>64</td>\n",
       "      <td>58</td>\n",
       "      <td>71</td>\n",
       "      <td>female</td>\n",
       "      <td>64.6</td>\n",
       "      <td>63.2</td>\n",
       "    </tr>\n",
       "    <tr>\n",
       "      <th>90</th>\n",
       "      <td>24</td>\n",
       "      <td>0</td>\n",
       "      <td>2</td>\n",
       "      <td>2</td>\n",
       "      <td>1</td>\n",
       "      <td>2</td>\n",
       "      <td>52</td>\n",
       "      <td>62</td>\n",
       "      <td>66</td>\n",
       "      <td>47</td>\n",
       "      <td>46</td>\n",
       "      <td>male</td>\n",
       "      <td>54.6</td>\n",
       "      <td>55.1</td>\n",
       "    </tr>\n",
       "    <tr>\n",
       "      <th>187</th>\n",
       "      <td>25</td>\n",
       "      <td>1</td>\n",
       "      <td>2</td>\n",
       "      <td>2</td>\n",
       "      <td>1</td>\n",
       "      <td>1</td>\n",
       "      <td>47</td>\n",
       "      <td>44</td>\n",
       "      <td>42</td>\n",
       "      <td>42</td>\n",
       "      <td>36</td>\n",
       "      <td>female</td>\n",
       "      <td>42.2</td>\n",
       "      <td>42.6</td>\n",
       "    </tr>\n",
       "    <tr>\n",
       "      <th>173</th>\n",
       "      <td>26</td>\n",
       "      <td>1</td>\n",
       "      <td>2</td>\n",
       "      <td>3</td>\n",
       "      <td>1</td>\n",
       "      <td>2</td>\n",
       "      <td>60</td>\n",
       "      <td>59</td>\n",
       "      <td>62</td>\n",
       "      <td>61</td>\n",
       "      <td>51</td>\n",
       "      <td>female</td>\n",
       "      <td>58.6</td>\n",
       "      <td>59.9</td>\n",
       "    </tr>\n",
       "    <tr>\n",
       "      <th>50</th>\n",
       "      <td>27</td>\n",
       "      <td>0</td>\n",
       "      <td>2</td>\n",
       "      <td>2</td>\n",
       "      <td>1</td>\n",
       "      <td>2</td>\n",
       "      <td>53</td>\n",
       "      <td>61</td>\n",
       "      <td>61</td>\n",
       "      <td>57</td>\n",
       "      <td>56</td>\n",
       "      <td>male</td>\n",
       "      <td>57.6</td>\n",
       "      <td>57.7</td>\n",
       "    </tr>\n",
       "    <tr>\n",
       "      <th>127</th>\n",
       "      <td>28</td>\n",
       "      <td>1</td>\n",
       "      <td>2</td>\n",
       "      <td>2</td>\n",
       "      <td>1</td>\n",
       "      <td>1</td>\n",
       "      <td>39</td>\n",
       "      <td>53</td>\n",
       "      <td>54</td>\n",
       "      <td>50</td>\n",
       "      <td>41</td>\n",
       "      <td>female</td>\n",
       "      <td>47.4</td>\n",
       "      <td>48.4</td>\n",
       "    </tr>\n",
       "    <tr>\n",
       "      <th>29</th>\n",
       "      <td>29</td>\n",
       "      <td>0</td>\n",
       "      <td>2</td>\n",
       "      <td>1</td>\n",
       "      <td>1</td>\n",
       "      <td>1</td>\n",
       "      <td>52</td>\n",
       "      <td>44</td>\n",
       "      <td>49</td>\n",
       "      <td>55</td>\n",
       "      <td>41</td>\n",
       "      <td>male</td>\n",
       "      <td>48.2</td>\n",
       "      <td>50.1</td>\n",
       "    </tr>\n",
       "    <tr>\n",
       "      <th>193</th>\n",
       "      <td>30</td>\n",
       "      <td>1</td>\n",
       "      <td>2</td>\n",
       "      <td>3</td>\n",
       "      <td>1</td>\n",
       "      <td>2</td>\n",
       "      <td>41</td>\n",
       "      <td>59</td>\n",
       "      <td>42</td>\n",
       "      <td>34</td>\n",
       "      <td>51</td>\n",
       "      <td>female</td>\n",
       "      <td>45.4</td>\n",
       "      <td>42.0</td>\n",
       "    </tr>\n",
       "    <tr>\n",
       "      <th>...</th>\n",
       "      <td>...</td>\n",
       "      <td>...</td>\n",
       "      <td>...</td>\n",
       "      <td>...</td>\n",
       "      <td>...</td>\n",
       "      <td>...</td>\n",
       "      <td>...</td>\n",
       "      <td>...</td>\n",
       "      <td>...</td>\n",
       "      <td>...</td>\n",
       "      <td>...</td>\n",
       "      <td>...</td>\n",
       "      <td>...</td>\n",
       "      <td>...</td>\n",
       "    </tr>\n",
       "    <tr>\n",
       "      <th>66</th>\n",
       "      <td>171</td>\n",
       "      <td>0</td>\n",
       "      <td>4</td>\n",
       "      <td>2</td>\n",
       "      <td>1</td>\n",
       "      <td>2</td>\n",
       "      <td>60</td>\n",
       "      <td>54</td>\n",
       "      <td>60</td>\n",
       "      <td>55</td>\n",
       "      <td>66</td>\n",
       "      <td>male</td>\n",
       "      <td>59.0</td>\n",
       "      <td>58.5</td>\n",
       "    </tr>\n",
       "    <tr>\n",
       "      <th>4</th>\n",
       "      <td>172</td>\n",
       "      <td>0</td>\n",
       "      <td>4</td>\n",
       "      <td>2</td>\n",
       "      <td>1</td>\n",
       "      <td>2</td>\n",
       "      <td>47</td>\n",
       "      <td>52</td>\n",
       "      <td>57</td>\n",
       "      <td>53</td>\n",
       "      <td>61</td>\n",
       "      <td>male</td>\n",
       "      <td>54.0</td>\n",
       "      <td>53.7</td>\n",
       "    </tr>\n",
       "    <tr>\n",
       "      <th>95</th>\n",
       "      <td>173</td>\n",
       "      <td>1</td>\n",
       "      <td>4</td>\n",
       "      <td>1</td>\n",
       "      <td>1</td>\n",
       "      <td>1</td>\n",
       "      <td>50</td>\n",
       "      <td>62</td>\n",
       "      <td>61</td>\n",
       "      <td>63</td>\n",
       "      <td>51</td>\n",
       "      <td>female</td>\n",
       "      <td>57.4</td>\n",
       "      <td>58.5</td>\n",
       "    </tr>\n",
       "    <tr>\n",
       "      <th>82</th>\n",
       "      <td>174</td>\n",
       "      <td>0</td>\n",
       "      <td>4</td>\n",
       "      <td>2</td>\n",
       "      <td>2</td>\n",
       "      <td>2</td>\n",
       "      <td>68</td>\n",
       "      <td>59</td>\n",
       "      <td>71</td>\n",
       "      <td>66</td>\n",
       "      <td>56</td>\n",
       "      <td>male</td>\n",
       "      <td>64.0</td>\n",
       "      <td>66.2</td>\n",
       "    </tr>\n",
       "    <tr>\n",
       "      <th>191</th>\n",
       "      <td>175</td>\n",
       "      <td>1</td>\n",
       "      <td>4</td>\n",
       "      <td>3</td>\n",
       "      <td>2</td>\n",
       "      <td>1</td>\n",
       "      <td>36</td>\n",
       "      <td>57</td>\n",
       "      <td>42</td>\n",
       "      <td>50</td>\n",
       "      <td>41</td>\n",
       "      <td>female</td>\n",
       "      <td>45.2</td>\n",
       "      <td>44.6</td>\n",
       "    </tr>\n",
       "    <tr>\n",
       "      <th>40</th>\n",
       "      <td>176</td>\n",
       "      <td>0</td>\n",
       "      <td>4</td>\n",
       "      <td>2</td>\n",
       "      <td>2</td>\n",
       "      <td>2</td>\n",
       "      <td>47</td>\n",
       "      <td>47</td>\n",
       "      <td>41</td>\n",
       "      <td>42</td>\n",
       "      <td>51</td>\n",
       "      <td>male</td>\n",
       "      <td>45.6</td>\n",
       "      <td>44.1</td>\n",
       "    </tr>\n",
       "    <tr>\n",
       "      <th>41</th>\n",
       "      <td>177</td>\n",
       "      <td>0</td>\n",
       "      <td>4</td>\n",
       "      <td>2</td>\n",
       "      <td>2</td>\n",
       "      <td>2</td>\n",
       "      <td>55</td>\n",
       "      <td>59</td>\n",
       "      <td>62</td>\n",
       "      <td>58</td>\n",
       "      <td>51</td>\n",
       "      <td>male</td>\n",
       "      <td>57.0</td>\n",
       "      <td>58.0</td>\n",
       "    </tr>\n",
       "    <tr>\n",
       "      <th>27</th>\n",
       "      <td>178</td>\n",
       "      <td>0</td>\n",
       "      <td>4</td>\n",
       "      <td>2</td>\n",
       "      <td>2</td>\n",
       "      <td>3</td>\n",
       "      <td>47</td>\n",
       "      <td>57</td>\n",
       "      <td>57</td>\n",
       "      <td>58</td>\n",
       "      <td>46</td>\n",
       "      <td>male</td>\n",
       "      <td>53.0</td>\n",
       "      <td>54.2</td>\n",
       "    </tr>\n",
       "    <tr>\n",
       "      <th>194</th>\n",
       "      <td>179</td>\n",
       "      <td>1</td>\n",
       "      <td>4</td>\n",
       "      <td>2</td>\n",
       "      <td>2</td>\n",
       "      <td>2</td>\n",
       "      <td>47</td>\n",
       "      <td>65</td>\n",
       "      <td>60</td>\n",
       "      <td>50</td>\n",
       "      <td>56</td>\n",
       "      <td>female</td>\n",
       "      <td>55.6</td>\n",
       "      <td>54.5</td>\n",
       "    </tr>\n",
       "    <tr>\n",
       "      <th>109</th>\n",
       "      <td>180</td>\n",
       "      <td>1</td>\n",
       "      <td>4</td>\n",
       "      <td>3</td>\n",
       "      <td>2</td>\n",
       "      <td>2</td>\n",
       "      <td>71</td>\n",
       "      <td>65</td>\n",
       "      <td>69</td>\n",
       "      <td>58</td>\n",
       "      <td>71</td>\n",
       "      <td>female</td>\n",
       "      <td>66.8</td>\n",
       "      <td>65.9</td>\n",
       "    </tr>\n",
       "    <tr>\n",
       "      <th>60</th>\n",
       "      <td>181</td>\n",
       "      <td>0</td>\n",
       "      <td>4</td>\n",
       "      <td>2</td>\n",
       "      <td>2</td>\n",
       "      <td>2</td>\n",
       "      <td>50</td>\n",
       "      <td>46</td>\n",
       "      <td>45</td>\n",
       "      <td>58</td>\n",
       "      <td>61</td>\n",
       "      <td>male</td>\n",
       "      <td>52.0</td>\n",
       "      <td>51.6</td>\n",
       "    </tr>\n",
       "    <tr>\n",
       "      <th>147</th>\n",
       "      <td>182</td>\n",
       "      <td>1</td>\n",
       "      <td>4</td>\n",
       "      <td>2</td>\n",
       "      <td>2</td>\n",
       "      <td>2</td>\n",
       "      <td>44</td>\n",
       "      <td>52</td>\n",
       "      <td>43</td>\n",
       "      <td>44</td>\n",
       "      <td>51</td>\n",
       "      <td>female</td>\n",
       "      <td>46.8</td>\n",
       "      <td>45.2</td>\n",
       "    </tr>\n",
       "    <tr>\n",
       "      <th>53</th>\n",
       "      <td>183</td>\n",
       "      <td>0</td>\n",
       "      <td>4</td>\n",
       "      <td>2</td>\n",
       "      <td>2</td>\n",
       "      <td>2</td>\n",
       "      <td>63</td>\n",
       "      <td>59</td>\n",
       "      <td>49</td>\n",
       "      <td>55</td>\n",
       "      <td>71</td>\n",
       "      <td>male</td>\n",
       "      <td>59.4</td>\n",
       "      <td>56.8</td>\n",
       "    </tr>\n",
       "    <tr>\n",
       "      <th>192</th>\n",
       "      <td>184</td>\n",
       "      <td>1</td>\n",
       "      <td>4</td>\n",
       "      <td>2</td>\n",
       "      <td>2</td>\n",
       "      <td>3</td>\n",
       "      <td>50</td>\n",
       "      <td>52</td>\n",
       "      <td>53</td>\n",
       "      <td>55</td>\n",
       "      <td>56</td>\n",
       "      <td>female</td>\n",
       "      <td>53.2</td>\n",
       "      <td>53.2</td>\n",
       "    </tr>\n",
       "    <tr>\n",
       "      <th>58</th>\n",
       "      <td>185</td>\n",
       "      <td>0</td>\n",
       "      <td>4</td>\n",
       "      <td>2</td>\n",
       "      <td>2</td>\n",
       "      <td>2</td>\n",
       "      <td>63</td>\n",
       "      <td>57</td>\n",
       "      <td>55</td>\n",
       "      <td>58</td>\n",
       "      <td>41</td>\n",
       "      <td>male</td>\n",
       "      <td>54.8</td>\n",
       "      <td>56.3</td>\n",
       "    </tr>\n",
       "    <tr>\n",
       "      <th>168</th>\n",
       "      <td>186</td>\n",
       "      <td>1</td>\n",
       "      <td>4</td>\n",
       "      <td>2</td>\n",
       "      <td>2</td>\n",
       "      <td>2</td>\n",
       "      <td>57</td>\n",
       "      <td>62</td>\n",
       "      <td>63</td>\n",
       "      <td>55</td>\n",
       "      <td>41</td>\n",
       "      <td>female</td>\n",
       "      <td>55.6</td>\n",
       "      <td>57.1</td>\n",
       "    </tr>\n",
       "    <tr>\n",
       "      <th>197</th>\n",
       "      <td>187</td>\n",
       "      <td>1</td>\n",
       "      <td>4</td>\n",
       "      <td>2</td>\n",
       "      <td>2</td>\n",
       "      <td>1</td>\n",
       "      <td>57</td>\n",
       "      <td>41</td>\n",
       "      <td>57</td>\n",
       "      <td>55</td>\n",
       "      <td>52</td>\n",
       "      <td>female</td>\n",
       "      <td>52.4</td>\n",
       "      <td>54.3</td>\n",
       "    </tr>\n",
       "    <tr>\n",
       "      <th>188</th>\n",
       "      <td>188</td>\n",
       "      <td>1</td>\n",
       "      <td>4</td>\n",
       "      <td>3</td>\n",
       "      <td>2</td>\n",
       "      <td>2</td>\n",
       "      <td>63</td>\n",
       "      <td>62</td>\n",
       "      <td>56</td>\n",
       "      <td>55</td>\n",
       "      <td>61</td>\n",
       "      <td>female</td>\n",
       "      <td>59.4</td>\n",
       "      <td>58.2</td>\n",
       "    </tr>\n",
       "    <tr>\n",
       "      <th>48</th>\n",
       "      <td>189</td>\n",
       "      <td>0</td>\n",
       "      <td>4</td>\n",
       "      <td>2</td>\n",
       "      <td>2</td>\n",
       "      <td>2</td>\n",
       "      <td>47</td>\n",
       "      <td>59</td>\n",
       "      <td>63</td>\n",
       "      <td>53</td>\n",
       "      <td>46</td>\n",
       "      <td>male</td>\n",
       "      <td>53.6</td>\n",
       "      <td>54.7</td>\n",
       "    </tr>\n",
       "    <tr>\n",
       "      <th>136</th>\n",
       "      <td>190</td>\n",
       "      <td>1</td>\n",
       "      <td>4</td>\n",
       "      <td>2</td>\n",
       "      <td>2</td>\n",
       "      <td>2</td>\n",
       "      <td>47</td>\n",
       "      <td>59</td>\n",
       "      <td>54</td>\n",
       "      <td>58</td>\n",
       "      <td>46</td>\n",
       "      <td>female</td>\n",
       "      <td>52.8</td>\n",
       "      <td>53.5</td>\n",
       "    </tr>\n",
       "    <tr>\n",
       "      <th>145</th>\n",
       "      <td>191</td>\n",
       "      <td>1</td>\n",
       "      <td>4</td>\n",
       "      <td>3</td>\n",
       "      <td>2</td>\n",
       "      <td>2</td>\n",
       "      <td>47</td>\n",
       "      <td>52</td>\n",
       "      <td>43</td>\n",
       "      <td>48</td>\n",
       "      <td>61</td>\n",
       "      <td>female</td>\n",
       "      <td>50.2</td>\n",
       "      <td>48.0</td>\n",
       "    </tr>\n",
       "    <tr>\n",
       "      <th>32</th>\n",
       "      <td>192</td>\n",
       "      <td>0</td>\n",
       "      <td>4</td>\n",
       "      <td>3</td>\n",
       "      <td>2</td>\n",
       "      <td>2</td>\n",
       "      <td>65</td>\n",
       "      <td>67</td>\n",
       "      <td>63</td>\n",
       "      <td>66</td>\n",
       "      <td>71</td>\n",
       "      <td>male</td>\n",
       "      <td>66.4</td>\n",
       "      <td>65.5</td>\n",
       "    </tr>\n",
       "    <tr>\n",
       "      <th>181</th>\n",
       "      <td>193</td>\n",
       "      <td>1</td>\n",
       "      <td>4</td>\n",
       "      <td>2</td>\n",
       "      <td>2</td>\n",
       "      <td>2</td>\n",
       "      <td>44</td>\n",
       "      <td>49</td>\n",
       "      <td>48</td>\n",
       "      <td>39</td>\n",
       "      <td>51</td>\n",
       "      <td>female</td>\n",
       "      <td>46.2</td>\n",
       "      <td>44.9</td>\n",
       "    </tr>\n",
       "    <tr>\n",
       "      <th>99</th>\n",
       "      <td>194</td>\n",
       "      <td>1</td>\n",
       "      <td>4</td>\n",
       "      <td>3</td>\n",
       "      <td>2</td>\n",
       "      <td>2</td>\n",
       "      <td>63</td>\n",
       "      <td>63</td>\n",
       "      <td>69</td>\n",
       "      <td>61</td>\n",
       "      <td>61</td>\n",
       "      <td>female</td>\n",
       "      <td>63.4</td>\n",
       "      <td>64.0</td>\n",
       "    </tr>\n",
       "    <tr>\n",
       "      <th>17</th>\n",
       "      <td>195</td>\n",
       "      <td>0</td>\n",
       "      <td>4</td>\n",
       "      <td>2</td>\n",
       "      <td>2</td>\n",
       "      <td>1</td>\n",
       "      <td>57</td>\n",
       "      <td>57</td>\n",
       "      <td>60</td>\n",
       "      <td>58</td>\n",
       "      <td>56</td>\n",
       "      <td>male</td>\n",
       "      <td>57.6</td>\n",
       "      <td>58.1</td>\n",
       "    </tr>\n",
       "    <tr>\n",
       "      <th>28</th>\n",
       "      <td>196</td>\n",
       "      <td>0</td>\n",
       "      <td>4</td>\n",
       "      <td>3</td>\n",
       "      <td>2</td>\n",
       "      <td>2</td>\n",
       "      <td>44</td>\n",
       "      <td>38</td>\n",
       "      <td>49</td>\n",
       "      <td>39</td>\n",
       "      <td>46</td>\n",
       "      <td>male</td>\n",
       "      <td>43.2</td>\n",
       "      <td>43.6</td>\n",
       "    </tr>\n",
       "    <tr>\n",
       "      <th>64</th>\n",
       "      <td>197</td>\n",
       "      <td>0</td>\n",
       "      <td>4</td>\n",
       "      <td>3</td>\n",
       "      <td>2</td>\n",
       "      <td>2</td>\n",
       "      <td>50</td>\n",
       "      <td>42</td>\n",
       "      <td>50</td>\n",
       "      <td>36</td>\n",
       "      <td>61</td>\n",
       "      <td>male</td>\n",
       "      <td>47.8</td>\n",
       "      <td>46.1</td>\n",
       "    </tr>\n",
       "    <tr>\n",
       "      <th>162</th>\n",
       "      <td>198</td>\n",
       "      <td>1</td>\n",
       "      <td>4</td>\n",
       "      <td>3</td>\n",
       "      <td>2</td>\n",
       "      <td>2</td>\n",
       "      <td>47</td>\n",
       "      <td>61</td>\n",
       "      <td>51</td>\n",
       "      <td>63</td>\n",
       "      <td>31</td>\n",
       "      <td>female</td>\n",
       "      <td>50.6</td>\n",
       "      <td>52.8</td>\n",
       "    </tr>\n",
       "    <tr>\n",
       "      <th>34</th>\n",
       "      <td>199</td>\n",
       "      <td>0</td>\n",
       "      <td>4</td>\n",
       "      <td>3</td>\n",
       "      <td>2</td>\n",
       "      <td>2</td>\n",
       "      <td>52</td>\n",
       "      <td>59</td>\n",
       "      <td>50</td>\n",
       "      <td>61</td>\n",
       "      <td>61</td>\n",
       "      <td>male</td>\n",
       "      <td>56.6</td>\n",
       "      <td>55.7</td>\n",
       "    </tr>\n",
       "    <tr>\n",
       "      <th>36</th>\n",
       "      <td>200</td>\n",
       "      <td>0</td>\n",
       "      <td>4</td>\n",
       "      <td>2</td>\n",
       "      <td>2</td>\n",
       "      <td>2</td>\n",
       "      <td>68</td>\n",
       "      <td>54</td>\n",
       "      <td>75</td>\n",
       "      <td>66</td>\n",
       "      <td>66</td>\n",
       "      <td>male</td>\n",
       "      <td>65.8</td>\n",
       "      <td>67.9</td>\n",
       "    </tr>\n",
       "  </tbody>\n",
       "</table>\n",
       "<p>200 rows × 14 columns</p>\n",
       "</div>"
      ],
      "text/plain": [
       "      id  female  race  ses  schtyp  prog  read  write  math  science  socst  \\\n",
       "98     1       1     1    1       1     3    34     44    40       39     41   \n",
       "138    2       1     1    2       1     3    39     41    33       42     41   \n",
       "83     3       0     1    1       1     2    63     65    48       63     56   \n",
       "111    4       1     1    1       1     2    44     50    41       39     51   \n",
       "75     5       0     1    1       1     2    47     40    43       45     31   \n",
       "148    6       1     1    1       1     2    47     41    46       40     41   \n",
       "49     7       0     1    2       1     2    57     54    59       47     51   \n",
       "93     8       1     1    1       1     2    39     44    52       44     48   \n",
       "59     9       0     1    2       1     3    48     49    52       44     51   \n",
       "153   10       1     1    2       1     1    47     54    49       53     61   \n",
       "7     11       0     1    2       1     2    34     46    45       39     36   \n",
       "24    12       0     1    2       1     3    37     44    45       39     46   \n",
       "171   13       1     1    2       1     3    47     46    39       47     61   \n",
       "79    14       0     1    3       1     2    47     41    54       42     56   \n",
       "55    15       0     1    3       1     3    39     39    44       26     42   \n",
       "38    16       0     1    1       1     3    47     31    44       36     36   \n",
       "143   17       1     1    2       1     2    47     57    48       44     41   \n",
       "69    18       0     1    2       1     3    50     33    49       44     36   \n",
       "140   19       1     1    1       1     1    28     46    43       44     51   \n",
       "23    20       0     1    3       1     2    60     52    57       61     61   \n",
       "52    21       0     1    2       1     1    44     44    61       50     46   \n",
       "57    22       0     1    2       1     3    42     39    39       56     46   \n",
       "185   23       1     2    1       1     2    65     65    64       58     71   \n",
       "90    24       0     2    2       1     2    52     62    66       47     46   \n",
       "187   25       1     2    2       1     1    47     44    42       42     36   \n",
       "173   26       1     2    3       1     2    60     59    62       61     51   \n",
       "50    27       0     2    2       1     2    53     61    61       57     56   \n",
       "127   28       1     2    2       1     1    39     53    54       50     41   \n",
       "29    29       0     2    1       1     1    52     44    49       55     41   \n",
       "193   30       1     2    3       1     2    41     59    42       34     51   \n",
       "..   ...     ...   ...  ...     ...   ...   ...    ...   ...      ...    ...   \n",
       "66   171       0     4    2       1     2    60     54    60       55     66   \n",
       "4    172       0     4    2       1     2    47     52    57       53     61   \n",
       "95   173       1     4    1       1     1    50     62    61       63     51   \n",
       "82   174       0     4    2       2     2    68     59    71       66     56   \n",
       "191  175       1     4    3       2     1    36     57    42       50     41   \n",
       "40   176       0     4    2       2     2    47     47    41       42     51   \n",
       "41   177       0     4    2       2     2    55     59    62       58     51   \n",
       "27   178       0     4    2       2     3    47     57    57       58     46   \n",
       "194  179       1     4    2       2     2    47     65    60       50     56   \n",
       "109  180       1     4    3       2     2    71     65    69       58     71   \n",
       "60   181       0     4    2       2     2    50     46    45       58     61   \n",
       "147  182       1     4    2       2     2    44     52    43       44     51   \n",
       "53   183       0     4    2       2     2    63     59    49       55     71   \n",
       "192  184       1     4    2       2     3    50     52    53       55     56   \n",
       "58   185       0     4    2       2     2    63     57    55       58     41   \n",
       "168  186       1     4    2       2     2    57     62    63       55     41   \n",
       "197  187       1     4    2       2     1    57     41    57       55     52   \n",
       "188  188       1     4    3       2     2    63     62    56       55     61   \n",
       "48   189       0     4    2       2     2    47     59    63       53     46   \n",
       "136  190       1     4    2       2     2    47     59    54       58     46   \n",
       "145  191       1     4    3       2     2    47     52    43       48     61   \n",
       "32   192       0     4    3       2     2    65     67    63       66     71   \n",
       "181  193       1     4    2       2     2    44     49    48       39     51   \n",
       "99   194       1     4    3       2     2    63     63    69       61     61   \n",
       "17   195       0     4    2       2     1    57     57    60       58     56   \n",
       "28   196       0     4    3       2     2    44     38    49       39     46   \n",
       "64   197       0     4    3       2     2    50     42    50       36     61   \n",
       "162  198       1     4    3       2     2    47     61    51       63     31   \n",
       "34   199       0     4    3       2     2    52     59    50       61     61   \n",
       "36   200       0     4    2       2     2    68     54    75       66     66   \n",
       "\n",
       "     gender  average  weighted_average  \n",
       "98   female     39.6              39.0  \n",
       "138  female     39.2              38.5  \n",
       "83     male     59.0              58.0  \n",
       "111  female     45.0              42.9  \n",
       "75     male     41.2              42.9  \n",
       "148  female     43.0              43.4  \n",
       "49     male     53.6              53.7  \n",
       "93   female     45.4              45.8  \n",
       "59     male     48.8              48.4  \n",
       "153  female     52.8              51.5  \n",
       "7      male     40.0              40.2  \n",
       "24     male     42.2              41.6  \n",
       "171  female     48.0              45.9  \n",
       "79     male     48.0              47.9  \n",
       "55     male     38.0              36.9  \n",
       "38     male     38.8              40.1  \n",
       "143  female     47.4              46.8  \n",
       "69     male     42.4              44.8  \n",
       "140  female     42.4              41.4  \n",
       "23     male     58.2              58.7  \n",
       "52     male     49.0              51.1  \n",
       "57     male     44.4              45.4  \n",
       "185  female     64.6              63.2  \n",
       "90     male     54.6              55.1  \n",
       "187  female     42.2              42.6  \n",
       "173  female     58.6              59.9  \n",
       "50     male     57.6              57.7  \n",
       "127  female     47.4              48.4  \n",
       "29     male     48.2              50.1  \n",
       "193  female     45.4              42.0  \n",
       "..      ...      ...               ...  \n",
       "66     male     59.0              58.5  \n",
       "4      male     54.0              53.7  \n",
       "95   female     57.4              58.5  \n",
       "82     male     64.0              66.2  \n",
       "191  female     45.2              44.6  \n",
       "40     male     45.6              44.1  \n",
       "41     male     57.0              58.0  \n",
       "27     male     53.0              54.2  \n",
       "194  female     55.6              54.5  \n",
       "109  female     66.8              65.9  \n",
       "60     male     52.0              51.6  \n",
       "147  female     46.8              45.2  \n",
       "53     male     59.4              56.8  \n",
       "192  female     53.2              53.2  \n",
       "58     male     54.8              56.3  \n",
       "168  female     55.6              57.1  \n",
       "197  female     52.4              54.3  \n",
       "188  female     59.4              58.2  \n",
       "48     male     53.6              54.7  \n",
       "136  female     52.8              53.5  \n",
       "145  female     50.2              48.0  \n",
       "32     male     66.4              65.5  \n",
       "181  female     46.2              44.9  \n",
       "99   female     63.4              64.0  \n",
       "17     male     57.6              58.1  \n",
       "28     male     43.2              43.6  \n",
       "64     male     47.8              46.1  \n",
       "162  female     50.6              52.8  \n",
       "34     male     56.6              55.7  \n",
       "36     male     65.8              67.9  \n",
       "\n",
       "[200 rows x 14 columns]"
      ]
     },
     "execution_count": 186,
     "metadata": {},
     "output_type": "execute_result"
    }
   ],
   "source": [
    "df.to_"
   ]
  },
  {
   "cell_type": "code",
   "execution_count": 187,
   "metadata": {
    "collapsed": true,
    "deletable": true,
    "editable": true
   },
   "outputs": [],
   "source": [
    "df.to_excel(\"some_file.xls\")"
   ]
  },
  {
   "cell_type": "code",
   "execution_count": 188,
   "metadata": {
    "collapsed": true,
    "deletable": true,
    "editable": true
   },
   "outputs": [],
   "source": [
    "import os"
   ]
  },
  {
   "cell_type": "code",
   "execution_count": 189,
   "metadata": {
    "collapsed": false,
    "deletable": true,
    "editable": true
   },
   "outputs": [
    {
     "data": {
      "text/plain": [
       "'C:\\\\Users\\\\student\\\\Documents'"
      ]
     },
     "execution_count": 189,
     "metadata": {},
     "output_type": "execute_result"
    }
   ],
   "source": [
    "os.getcwd()"
   ]
  },
  {
   "cell_type": "code",
   "execution_count": 198,
   "metadata": {
    "collapsed": true,
    "deletable": true,
    "editable": true
   },
   "outputs": [],
   "source": [
    "from statsmodels.formula.api import ols"
   ]
  },
  {
   "cell_type": "markdown",
   "metadata": {
    "deletable": true,
    "editable": true
   },
   "source": [
    "$$ science = \\beta_0 + \\beta_{read}\\cdot read + \\beta_{write}\\cdot write + \\beta_{math}\\cdot math + \\varepsilon$$"
   ]
  },
  {
   "cell_type": "code",
   "execution_count": 197,
   "metadata": {
    "collapsed": false,
    "deletable": true,
    "editable": true
   },
   "outputs": [],
   "source": [
    "fit1 = ols('science ~ read + write + math', data=df ).fit()"
   ]
  },
  {
   "cell_type": "code",
   "execution_count": 196,
   "metadata": {
    "collapsed": false,
    "deletable": true,
    "editable": true
   },
   "outputs": [
    {
     "data": {
      "text/html": [
       "<table class=\"simpletable\">\n",
       "<caption>OLS Regression Results</caption>\n",
       "<tr>\n",
       "  <th>Dep. Variable:</th>         <td>science</td>     <th>  R-squared:         </th> <td>   0.500</td>\n",
       "</tr>\n",
       "<tr>\n",
       "  <th>Model:</th>                   <td>OLS</td>       <th>  Adj. R-squared:    </th> <td>   0.492</td>\n",
       "</tr>\n",
       "<tr>\n",
       "  <th>Method:</th>             <td>Least Squares</td>  <th>  F-statistic:       </th> <td>   65.32</td>\n",
       "</tr>\n",
       "<tr>\n",
       "  <th>Date:</th>             <td>Tue, 21 Feb 2017</td> <th>  Prob (F-statistic):</th> <td>2.54e-29</td>\n",
       "</tr>\n",
       "<tr>\n",
       "  <th>Time:</th>                 <td>18:48:18</td>     <th>  Log-Likelihood:    </th> <td> -672.51</td>\n",
       "</tr>\n",
       "<tr>\n",
       "  <th>No. Observations:</th>      <td>   200</td>      <th>  AIC:               </th> <td>   1353.</td>\n",
       "</tr>\n",
       "<tr>\n",
       "  <th>Df Residuals:</th>          <td>   196</td>      <th>  BIC:               </th> <td>   1366.</td>\n",
       "</tr>\n",
       "<tr>\n",
       "  <th>Df Model:</th>              <td>     3</td>      <th>                     </th>     <td> </td>   \n",
       "</tr>\n",
       "<tr>\n",
       "  <th>Covariance Type:</th>      <td>nonrobust</td>    <th>                     </th>     <td> </td>   \n",
       "</tr>\n",
       "</table>\n",
       "<table class=\"simpletable\">\n",
       "<tr>\n",
       "      <td></td>         <th>coef</th>     <th>std err</th>      <th>t</th>      <th>P>|t|</th> <th>[95.0% Conf. Int.]</th> \n",
       "</tr>\n",
       "<tr>\n",
       "  <th>Intercept</th> <td>    8.4074</td> <td>    3.193</td> <td>    2.633</td> <td> 0.009</td> <td>    2.111    14.704</td>\n",
       "</tr>\n",
       "<tr>\n",
       "  <th>read</th>      <td>    0.3015</td> <td>    0.069</td> <td>    4.390</td> <td> 0.000</td> <td>    0.166     0.437</td>\n",
       "</tr>\n",
       "<tr>\n",
       "  <th>write</th>     <td>    0.2065</td> <td>    0.071</td> <td>    2.918</td> <td> 0.004</td> <td>    0.067     0.346</td>\n",
       "</tr>\n",
       "<tr>\n",
       "  <th>math</th>      <td>    0.3190</td> <td>    0.077</td> <td>    4.161</td> <td> 0.000</td> <td>    0.168     0.470</td>\n",
       "</tr>\n",
       "</table>\n",
       "<table class=\"simpletable\">\n",
       "<tr>\n",
       "  <th>Omnibus:</th>       <td> 1.718</td> <th>  Durbin-Watson:     </th> <td>   1.694</td>\n",
       "</tr>\n",
       "<tr>\n",
       "  <th>Prob(Omnibus):</th> <td> 0.424</td> <th>  Jarque-Bera (JB):  </th> <td>   1.354</td>\n",
       "</tr>\n",
       "<tr>\n",
       "  <th>Skew:</th>          <td> 0.128</td> <th>  Prob(JB):          </th> <td>   0.508</td>\n",
       "</tr>\n",
       "<tr>\n",
       "  <th>Kurtosis:</th>      <td> 3.312</td> <th>  Cond. No.          </th> <td>    590.</td>\n",
       "</tr>\n",
       "</table>"
      ],
      "text/plain": [
       "<class 'statsmodels.iolib.summary.Summary'>\n",
       "\"\"\"\n",
       "                            OLS Regression Results                            \n",
       "==============================================================================\n",
       "Dep. Variable:                science   R-squared:                       0.500\n",
       "Model:                            OLS   Adj. R-squared:                  0.492\n",
       "Method:                 Least Squares   F-statistic:                     65.32\n",
       "Date:                Tue, 21 Feb 2017   Prob (F-statistic):           2.54e-29\n",
       "Time:                        18:48:18   Log-Likelihood:                -672.51\n",
       "No. Observations:                 200   AIC:                             1353.\n",
       "Df Residuals:                     196   BIC:                             1366.\n",
       "Df Model:                           3                                         \n",
       "Covariance Type:            nonrobust                                         \n",
       "==============================================================================\n",
       "                 coef    std err          t      P>|t|      [95.0% Conf. Int.]\n",
       "------------------------------------------------------------------------------\n",
       "Intercept      8.4074      3.193      2.633      0.009         2.111    14.704\n",
       "read           0.3015      0.069      4.390      0.000         0.166     0.437\n",
       "write          0.2065      0.071      2.918      0.004         0.067     0.346\n",
       "math           0.3190      0.077      4.161      0.000         0.168     0.470\n",
       "==============================================================================\n",
       "Omnibus:                        1.718   Durbin-Watson:                   1.694\n",
       "Prob(Omnibus):                  0.424   Jarque-Bera (JB):                1.354\n",
       "Skew:                           0.128   Prob(JB):                        0.508\n",
       "Kurtosis:                       3.312   Cond. No.                         590.\n",
       "==============================================================================\n",
       "\n",
       "Warnings:\n",
       "[1] Standard Errors assume that the covariance matrix of the errors is correctly specified.\n",
       "\"\"\""
      ]
     },
     "execution_count": 196,
     "metadata": {},
     "output_type": "execute_result"
    }
   ],
   "source": [
    "fit1.summary()"
   ]
  },
  {
   "cell_type": "code",
   "execution_count": 201,
   "metadata": {
    "collapsed": true,
    "deletable": true,
    "editable": true
   },
   "outputs": [],
   "source": [
    "fit1 = ols('science ~ read + write + math + C(prog)', data=df ).fit()"
   ]
  },
  {
   "cell_type": "code",
   "execution_count": 202,
   "metadata": {
    "collapsed": false,
    "deletable": true,
    "editable": true
   },
   "outputs": [
    {
     "data": {
      "text/html": [
       "<table class=\"simpletable\">\n",
       "<caption>OLS Regression Results</caption>\n",
       "<tr>\n",
       "  <th>Dep. Variable:</th>         <td>science</td>     <th>  R-squared:         </th> <td>   0.527</td>\n",
       "</tr>\n",
       "<tr>\n",
       "  <th>Model:</th>                   <td>OLS</td>       <th>  Adj. R-squared:    </th> <td>   0.515</td>\n",
       "</tr>\n",
       "<tr>\n",
       "  <th>Method:</th>             <td>Least Squares</td>  <th>  F-statistic:       </th> <td>   43.24</td>\n",
       "</tr>\n",
       "<tr>\n",
       "  <th>Date:</th>             <td>Tue, 21 Feb 2017</td> <th>  Prob (F-statistic):</th> <td>8.14e-30</td>\n",
       "</tr>\n",
       "<tr>\n",
       "  <th>Time:</th>                 <td>18:49:48</td>     <th>  Log-Likelihood:    </th> <td> -666.93</td>\n",
       "</tr>\n",
       "<tr>\n",
       "  <th>No. Observations:</th>      <td>   200</td>      <th>  AIC:               </th> <td>   1346.</td>\n",
       "</tr>\n",
       "<tr>\n",
       "  <th>Df Residuals:</th>          <td>   194</td>      <th>  BIC:               </th> <td>   1366.</td>\n",
       "</tr>\n",
       "<tr>\n",
       "  <th>Df Model:</th>              <td>     5</td>      <th>                     </th>     <td> </td>   \n",
       "</tr>\n",
       "<tr>\n",
       "  <th>Covariance Type:</th>      <td>nonrobust</td>    <th>                     </th>     <td> </td>   \n",
       "</tr>\n",
       "</table>\n",
       "<table class=\"simpletable\">\n",
       "<tr>\n",
       "        <td></td>          <th>coef</th>     <th>std err</th>      <th>t</th>      <th>P>|t|</th> <th>[95.0% Conf. Int.]</th> \n",
       "</tr>\n",
       "<tr>\n",
       "  <th>Intercept</th>    <td>    6.6091</td> <td>    3.588</td> <td>    1.842</td> <td> 0.067</td> <td>   -0.467    13.685</td>\n",
       "</tr>\n",
       "<tr>\n",
       "  <th>C(prog)[T.2]</th> <td>   -4.2742</td> <td>    1.299</td> <td>   -3.290</td> <td> 0.001</td> <td>   -6.837    -1.712</td>\n",
       "</tr>\n",
       "<tr>\n",
       "  <th>C(prog)[T.3]</th> <td>   -1.7394</td> <td>    1.444</td> <td>   -1.205</td> <td> 0.230</td> <td>   -4.587     1.108</td>\n",
       "</tr>\n",
       "<tr>\n",
       "  <th>read</th>         <td>    0.3230</td> <td>    0.068</td> <td>    4.782</td> <td> 0.000</td> <td>    0.190     0.456</td>\n",
       "</tr>\n",
       "<tr>\n",
       "  <th>write</th>        <td>    0.2204</td> <td>    0.070</td> <td>    3.149</td> <td> 0.002</td> <td>    0.082     0.358</td>\n",
       "</tr>\n",
       "<tr>\n",
       "  <th>math</th>         <td>    0.3688</td> <td>    0.077</td> <td>    4.786</td> <td> 0.000</td> <td>    0.217     0.521</td>\n",
       "</tr>\n",
       "</table>\n",
       "<table class=\"simpletable\">\n",
       "<tr>\n",
       "  <th>Omnibus:</th>       <td> 2.391</td> <th>  Durbin-Watson:     </th> <td>   1.705</td>\n",
       "</tr>\n",
       "<tr>\n",
       "  <th>Prob(Omnibus):</th> <td> 0.302</td> <th>  Jarque-Bera (JB):  </th> <td>   2.023</td>\n",
       "</tr>\n",
       "<tr>\n",
       "  <th>Skew:</th>          <td> 0.172</td> <th>  Prob(JB):          </th> <td>   0.364</td>\n",
       "</tr>\n",
       "<tr>\n",
       "  <th>Kurtosis:</th>      <td> 3.353</td> <th>  Cond. No.          </th> <td>    688.</td>\n",
       "</tr>\n",
       "</table>"
      ],
      "text/plain": [
       "<class 'statsmodels.iolib.summary.Summary'>\n",
       "\"\"\"\n",
       "                            OLS Regression Results                            \n",
       "==============================================================================\n",
       "Dep. Variable:                science   R-squared:                       0.527\n",
       "Model:                            OLS   Adj. R-squared:                  0.515\n",
       "Method:                 Least Squares   F-statistic:                     43.24\n",
       "Date:                Tue, 21 Feb 2017   Prob (F-statistic):           8.14e-30\n",
       "Time:                        18:49:48   Log-Likelihood:                -666.93\n",
       "No. Observations:                 200   AIC:                             1346.\n",
       "Df Residuals:                     194   BIC:                             1366.\n",
       "Df Model:                           5                                         \n",
       "Covariance Type:            nonrobust                                         \n",
       "================================================================================\n",
       "                   coef    std err          t      P>|t|      [95.0% Conf. Int.]\n",
       "--------------------------------------------------------------------------------\n",
       "Intercept        6.6091      3.588      1.842      0.067        -0.467    13.685\n",
       "C(prog)[T.2]    -4.2742      1.299     -3.290      0.001        -6.837    -1.712\n",
       "C(prog)[T.3]    -1.7394      1.444     -1.205      0.230        -4.587     1.108\n",
       "read             0.3230      0.068      4.782      0.000         0.190     0.456\n",
       "write            0.2204      0.070      3.149      0.002         0.082     0.358\n",
       "math             0.3688      0.077      4.786      0.000         0.217     0.521\n",
       "==============================================================================\n",
       "Omnibus:                        2.391   Durbin-Watson:                   1.705\n",
       "Prob(Omnibus):                  0.302   Jarque-Bera (JB):                2.023\n",
       "Skew:                           0.172   Prob(JB):                        0.364\n",
       "Kurtosis:                       3.353   Cond. No.                         688.\n",
       "==============================================================================\n",
       "\n",
       "Warnings:\n",
       "[1] Standard Errors assume that the covariance matrix of the errors is correctly specified.\n",
       "\"\"\""
      ]
     },
     "execution_count": 202,
     "metadata": {},
     "output_type": "execute_result"
    }
   ],
   "source": [
    "fit1.summary()"
   ]
  },
  {
   "cell_type": "code",
   "execution_count": 203,
   "metadata": {
    "collapsed": false,
    "deletable": true,
    "editable": true
   },
   "outputs": [
    {
     "ename": "ImportError",
     "evalue": "No module named 'seaborn'",
     "output_type": "error",
     "traceback": [
      "\u001b[1;31m---------------------------------------------------------------------------\u001b[0m",
      "\u001b[1;31mImportError\u001b[0m                               Traceback (most recent call last)",
      "\u001b[1;32m<ipython-input-203-085c0287ecb5>\u001b[0m in \u001b[0;36m<module>\u001b[1;34m()\u001b[0m\n\u001b[1;32m----> 1\u001b[1;33m \u001b[1;32mimport\u001b[0m \u001b[0mseaborn\u001b[0m\u001b[1;33m\u001b[0m\u001b[0m\n\u001b[0m",
      "\u001b[1;31mImportError\u001b[0m: No module named 'seaborn'"
     ]
    }
   ],
   "source": [
    "import seaborn"
   ]
  },
  {
   "cell_type": "code",
   "execution_count": 204,
   "metadata": {
    "collapsed": true,
    "deletable": true,
    "editable": true
   },
   "outputs": [],
   "source": [
    "import matplotlib.pyplot as plt"
   ]
  },
  {
   "cell_type": "code",
   "execution_count": null,
   "metadata": {
    "collapsed": true,
    "deletable": true,
    "editable": true
   },
   "outputs": [],
   "source": [
    "# pip install seaborn"
   ]
  },
  {
   "cell_type": "code",
   "execution_count": 205,
   "metadata": {
    "collapsed": true,
    "deletable": true,
    "editable": true
   },
   "outputs": [],
   "source": [
    "import seaborn as sns"
   ]
  },
  {
   "cell_type": "code",
   "execution_count": 206,
   "metadata": {
    "collapsed": false,
    "deletable": true,
    "editable": true
   },
   "outputs": [
    {
     "data": {
      "text/plain": [
       "<matplotlib.axes._subplots.AxesSubplot at 0x98a7cf0>"
      ]
     },
     "execution_count": 206,
     "metadata": {},
     "output_type": "execute_result"
    },
    {
     "data": {
      "image/png": "[encoded data removed]",
      "text/plain": [
       "<matplotlib.figure.Figure at 0x98a7490>"
      ]
     },
     "metadata": {},
     "output_type": "display_data"
    }
   ],
   "source": [
    "df.boxplot(column='read', by='gender')"
   ]
  },
  {
   "cell_type": "code",
   "execution_count": 209,
   "metadata": {
    "collapsed": false,
    "deletable": true,
    "editable": true
   },
   "outputs": [
    {
     "data": {
      "text/plain": [
       "<matplotlib.axes._subplots.AxesSubplot at 0x97e43f0>"
      ]
     },
     "execution_count": 209,
     "metadata": {},
     "output_type": "execute_result"
    },
    {
     "data": {
      "image/png": "[encoded data removed]",
      "text/plain": [
       "<matplotlib.figure.Figure at 0x998ff90>"
      ]
     },
     "metadata": {},
     "output_type": "display_data"
    }
   ],
   "source": [
    "sns.boxplot(x='gender', y='read', hue='ses', data=df, palette='PRGn')"
   ]
  },
  {
   "cell_type": "code",
   "execution_count": 211,
   "metadata": {
    "collapsed": false,
    "deletable": true,
    "editable": true
   },
   "outputs": [
    {
     "data": {
      "text/plain": [
       "<matplotlib.axes._subplots.AxesSubplot at 0x9a84050>"
      ]
     },
     "execution_count": 211,
     "metadata": {},
     "output_type": "execute_result"
    },
    {
     "data": {
      "image/png": "[encoded data removed]",
      "text/plain": [
       "<matplotlib.figure.Figure at 0x9a85f90>"
      ]
     },
     "metadata": {},
     "output_type": "display_data"
    }
   ],
   "source": [
    "sns.kdeplot(df[['read', 'write']])"
   ]
  },
  {
   "cell_type": "code",
   "execution_count": 221,
   "metadata": {
    "collapsed": false,
    "deletable": true,
    "editable": true
   },
   "outputs": [
    {
     "data": {
      "text/plain": [
       "<seaborn.axisgrid.JointGrid at 0xc6c9e70>"
      ]
     },
     "execution_count": 221,
     "metadata": {},
     "output_type": "execute_result"
    },
    {
     "data": {
      "image/png": "[encoded data removed]",
      "text/plain": [
       "<matplotlib.figure.Figure at 0xc66d5d0>"
      ]
     },
     "metadata": {},
     "output_type": "display_data"
    }
   ],
   "source": [
    "sns.jointplot(df['read'], df['write'], kind='scatter', ratio=5)"
   ]
  },
  {
   "cell_type": "code",
   "execution_count": 236,
   "metadata": {
    "collapsed": false,
    "deletable": true,
    "editable": true
   },
   "outputs": [
    {
     "data": {
      "text/plain": [
       "<seaborn.axisgrid.FacetGrid at 0xd24fdb0>"
      ]
     },
     "execution_count": 236,
     "metadata": {},
     "output_type": "execute_result"
    },
    {
     "data": {
      "image/png": "[encoded data removed]",
      "text/plain": [
       "<matplotlib.figure.Figure at 0xd24fbf0>"
      ]
     },
     "metadata": {},
     "output_type": "display_data"
    }
   ],
   "source": [
    "import matplotlib.pyplot as plt\n",
    "sns.lmplot(x='read', y='write', ci=None, hue='ses', data=df)"
   ]
  },
  {
   "cell_type": "code",
   "execution_count": 239,
   "metadata": {
    "collapsed": false,
    "deletable": true,
    "editable": true
   },
   "outputs": [],
   "source": [
    "M = np.array([[1, 2, 3], [2, 3, 4]])\n",
    "N = np.array([[3, 2], [4, 5]])"
   ]
  },
  {
   "cell_type": "code",
   "execution_count": 240,
   "metadata": {
    "collapsed": false,
    "deletable": true,
    "editable": true
   },
   "outputs": [
    {
     "data": {
      "text/plain": [
       "array([[ 7, 12, 17],\n",
       "       [14, 23, 32]])"
      ]
     },
     "execution_count": 240,
     "metadata": {},
     "output_type": "execute_result"
    }
   ],
   "source": [
    "N @ M"
   ]
  },
  {
   "cell_type": "code",
   "execution_count": 241,
   "metadata": {
    "collapsed": false,
    "deletable": true,
    "editable": true
   },
   "outputs": [
    {
     "data": {
      "text/plain": [
       "array([[1, 2, 3],\n",
       "       [2, 3, 4]])"
      ]
     },
     "execution_count": 241,
     "metadata": {},
     "output_type": "execute_result"
    }
   ],
   "source": [
    "M"
   ]
  },
  {
   "cell_type": "code",
   "execution_count": 242,
   "metadata": {
    "collapsed": false,
    "deletable": true,
    "editable": true
   },
   "outputs": [
    {
     "data": {
      "text/plain": [
       "array([[3, 2],\n",
       "       [4, 5]])"
      ]
     },
     "execution_count": 242,
     "metadata": {},
     "output_type": "execute_result"
    }
   ],
   "source": [
    "N"
   ]
  },
  {
   "cell_type": "code",
   "execution_count": 243,
   "metadata": {
    "collapsed": true,
    "deletable": true,
    "editable": true
   },
   "outputs": [],
   "source": [
    "from scipy.linalg import eigvals"
   ]
  },
  {
   "cell_type": "code",
   "execution_count": 244,
   "metadata": {
    "collapsed": false,
    "deletable": true,
    "editable": true
   },
   "outputs": [
    {
     "data": {
      "text/plain": [
       "array([ 1.+0.j,  7.+0.j])"
      ]
     },
     "execution_count": 244,
     "metadata": {},
     "output_type": "execute_result"
    }
   ],
   "source": [
    "eigvals(N)"
   ]
  },
  {
   "cell_type": "code",
   "execution_count": 245,
   "metadata": {
    "collapsed": false,
    "deletable": true,
    "editable": true
   },
   "outputs": [
    {
     "data": {
      "text/plain": [
       "array([ 1.+0.j,  5.+0.j])"
      ]
     },
     "execution_count": 245,
     "metadata": {},
     "output_type": "execute_result"
    }
   ],
   "source": [
    "eigvals(np.array([[2, 3], [1, 4]]))"
   ]
  },
  {
   "cell_type": "code",
   "execution_count": 246,
   "metadata": {
    "collapsed": false,
    "deletable": true,
    "editable": true
   },
   "outputs": [
    {
     "data": {
      "text/plain": [
       "array([[2, 3],\n",
       "       [1, 4]])"
      ]
     },
     "execution_count": 246,
     "metadata": {},
     "output_type": "execute_result"
    }
   ],
   "source": [
    "np.array([[2, 3], [1, 4]])"
   ]
  },
  {
   "cell_type": "code",
   "execution_count": 248,
   "metadata": {
    "collapsed": false,
    "deletable": true,
    "editable": true
   },
   "outputs": [
    {
     "data": {
      "text/plain": [
       "array([ 0.,  3.])"
      ]
     },
     "execution_count": 248,
     "metadata": {},
     "output_type": "execute_result"
    }
   ],
   "source": [
    "np.linalg.solve(np.array([[1, 2], [4, 5]]), np.array([6, 15]))"
   ]
  },
  {
   "cell_type": "code",
   "execution_count": 1,
   "metadata": {
    "collapsed": true,
    "deletable": true,
    "editable": true
   },
   "outputs": [],
   "source": [
    "import sympy"
   ]
  },
  {
   "cell_type": "code",
   "execution_count": 2,
   "metadata": {
    "collapsed": true,
    "deletable": true,
    "editable": true
   },
   "outputs": [],
   "source": [
    "x, y = sympy.symbols('x y')"
   ]
  },
  {
   "cell_type": "code",
   "execution_count": 3,
   "metadata": {
    "collapsed": true,
    "deletable": true,
    "editable": true
   },
   "outputs": [],
   "source": [
    "sympy.init_printing(use_latex=True)"
   ]
  },
  {
   "cell_type": "code",
   "execution_count": 6,
   "metadata": {
    "collapsed": true,
    "deletable": true,
    "editable": true
   },
   "outputs": [],
   "source": [
    "f = sympy.sin(x) * sympy.exp(x ** 2)"
   ]
  },
  {
   "cell_type": "code",
   "execution_count": 7,
   "metadata": {
    "collapsed": false,
    "deletable": true,
    "editable": true
   },
   "outputs": [
    {
     "data": {
      "image/png": "[encoded data removed]",
      "text/latex": [
       "$$2 x e^{x^{2}} \\sin{\\left (x \\right )} + e^{x^{2}} \\cos{\\left (x \\right )}$$"
      ],
      "text/plain": [
       "     ⎛ 2⎞           ⎛ 2⎞       \n",
       "     ⎝x ⎠           ⎝x ⎠       \n",
       "2⋅x⋅ℯ    ⋅sin(x) + ℯ    ⋅cos(x)"
      ]
     },
     "execution_count": 7,
     "metadata": {},
     "output_type": "execute_result"
    }
   ],
   "source": [
    "f.diff(x)"
   ]
  },
  {
   "cell_type": "code",
   "execution_count": 10,
   "metadata": {
    "collapsed": false,
    "deletable": true,
    "editable": true
   },
   "outputs": [
    {
     "data": {
      "text/plain": [
       "'\\\\left[\\\\begin{matrix}x & y\\\\\\\\y & x\\\\end{matrix}\\\\right]'"
      ]
     },
     "execution_count": 10,
     "metadata": {},
     "output_type": "execute_result"
    }
   ],
   "source": [
    "sympy.latex(sympy.Matrix([[x, y], [y, x]]))"
   ]
  },
  {
   "cell_type": "code",
   "execution_count": 9,
   "metadata": {
    "collapsed": false,
    "deletable": true,
    "editable": true
   },
   "outputs": [
    {
     "data": {
      "text/plain": [
       "'x + \\\\frac{5 x^{3}}{6} + \\\\frac{41 x^{5}}{120} + \\\\frac{461 x^{7}}{5040} + \\\\frac{6481 x^{9}}{362880} + \\\\mathcal{O}\\\\left(x^{10}\\\\right)'"
      ]
     },
     "execution_count": 9,
     "metadata": {},
     "output_type": "execute_result"
    }
   ],
   "source": [
    "sympy.latex(f.series(n=10))"
   ]
  },
  {
   "cell_type": "code",
   "execution_count": 5,
   "metadata": {
    "collapsed": false,
    "deletable": true,
    "editable": true
   },
   "outputs": [
    {
     "data": {
      "text/plain": [
       "'x^{100} + 100 x^{99} y + 4950 x^{98} y^{2} + 161700 x^{97} y^{3} + 3921225 x^{96} y^{4} + 75287520 x^{95} y^{5} + 1192052400 x^{94} y^{6} + 16007560800 x^{93} y^{7} + 186087894300 x^{92} y^{8} + 1902231808400 x^{91} y^{9} + 17310309456440 x^{90} y^{10} + 141629804643600 x^{89} y^{11} + 1050421051106700 x^{88} y^{12} + 7110542499799200 x^{87} y^{13} + 44186942677323600 x^{86} y^{14} + 253338471349988640 x^{85} y^{15} + 1345860629046814650 x^{84} y^{16} + 6650134872937201800 x^{83} y^{17} + 30664510802988208300 x^{82} y^{18} + 132341572939212267400 x^{81} y^{19} + 535983370403809682970 x^{80} y^{20} + 2041841411062132125600 x^{79} y^{21} + 7332066885177656269200 x^{78} y^{22} + 24865270306254660391200 x^{77} y^{23} + 79776075565900368755100 x^{76} y^{24} + 242519269720337121015504 x^{75} y^{25} + 699574816500972464467800 x^{74} y^{26} + 1917353200780443050763600 x^{73} y^{27} + 4998813702034726525205100 x^{72} y^{28} + 12410847811948286545336800 x^{71} y^{29} + 29372339821610944823963760 x^{70} y^{30} + 66324638306863423796047200 x^{69} y^{31} + 143012501349174257560226775 x^{68} y^{32} + 294692427022540894366527900 x^{67} y^{33} + 580717429720889409486981450 x^{66} y^{34} + 1095067153187962886461165020 x^{65} y^{35} + 1977204582144932989443770175 x^{64} y^{36} + 3420029547493938143902737600 x^{63} y^{37} + 5670048986634686922786117600 x^{62} y^{38} + 9013924030034630492634340800 x^{61} y^{39} + 13746234145802811501267369720 x^{60} y^{40} + 20116440213369968050635175200 x^{59} y^{41} + 28258808871162574166368460400 x^{58} y^{42} + 38116532895986727945334202400 x^{57} y^{43} + 49378235797073715747364762200 x^{56} y^{44} + 61448471214136179596720592960 x^{55} y^{45} + 73470998190814997343905056800 x^{54} y^{46} + 84413487283064039501507937600 x^{53} y^{47} + 93206558875049876949581681100 x^{52} y^{48} + 98913082887808032681188722800 x^{51} y^{49} + 100891344545564193334812497256 x^{50} y^{50} + 98913082887808032681188722800 x^{49} y^{51} + 93206558875049876949581681100 x^{48} y^{52} + 84413487283064039501507937600 x^{47} y^{53} + 73470998190814997343905056800 x^{46} y^{54} + 61448471214136179596720592960 x^{45} y^{55} + 49378235797073715747364762200 x^{44} y^{56} + 38116532895986727945334202400 x^{43} y^{57} + 28258808871162574166368460400 x^{42} y^{58} + 20116440213369968050635175200 x^{41} y^{59} + 13746234145802811501267369720 x^{40} y^{60} + 9013924030034630492634340800 x^{39} y^{61} + 5670048986634686922786117600 x^{38} y^{62} + 3420029547493938143902737600 x^{37} y^{63} + 1977204582144932989443770175 x^{36} y^{64} + 1095067153187962886461165020 x^{35} y^{65} + 580717429720889409486981450 x^{34} y^{66} + 294692427022540894366527900 x^{33} y^{67} + 143012501349174257560226775 x^{32} y^{68} + 66324638306863423796047200 x^{31} y^{69} + 29372339821610944823963760 x^{30} y^{70} + 12410847811948286545336800 x^{29} y^{71} + 4998813702034726525205100 x^{28} y^{72} + 1917353200780443050763600 x^{27} y^{73} + 699574816500972464467800 x^{26} y^{74} + 242519269720337121015504 x^{25} y^{75} + 79776075565900368755100 x^{24} y^{76} + 24865270306254660391200 x^{23} y^{77} + 7332066885177656269200 x^{22} y^{78} + 2041841411062132125600 x^{21} y^{79} + 535983370403809682970 x^{20} y^{80} + 132341572939212267400 x^{19} y^{81} + 30664510802988208300 x^{18} y^{82} + 6650134872937201800 x^{17} y^{83} + 1345860629046814650 x^{16} y^{84} + 253338471349988640 x^{15} y^{85} + 44186942677323600 x^{14} y^{86} + 7110542499799200 x^{13} y^{87} + 1050421051106700 x^{12} y^{88} + 141629804643600 x^{11} y^{89} + 17310309456440 x^{10} y^{90} + 1902231808400 x^{9} y^{91} + 186087894300 x^{8} y^{92} + 16007560800 x^{7} y^{93} + 1192052400 x^{6} y^{94} + 75287520 x^{5} y^{95} + 3921225 x^{4} y^{96} + 161700 x^{3} y^{97} + 4950 x^{2} y^{98} + 100 x y^{99} + y^{100}'"
      ]
     },
     "execution_count": 5,
     "metadata": {},
     "output_type": "execute_result"
    }
   ],
   "source": [
    "sympy.latex(sympy.expand((x+y)**100))"
   ]
  },
  {
   "cell_type": "code",
   "execution_count": null,
   "metadata": {
    "collapsed": true,
    "deletable": true,
    "editable": true
   },
   "outputs": [],
   "source": []
  }
 ],
 "metadata": {
  "kernelspec": {
   "display_name": "Python 2",
   "language": "python",
   "name": "python2"
  },
  "language_info": {
   "codemirror_mode": {
    "name": "ipython",
    "version": 2
   },
   "file_extension": ".py",
   "mimetype": "text/x-python",
   "name": "python",
   "nbconvert_exporter": "python",
   "pygments_lexer": "ipython2",
   "version": "2.7.11"
  }
 },
 "nbformat": 4,
 "nbformat_minor": 0
}
